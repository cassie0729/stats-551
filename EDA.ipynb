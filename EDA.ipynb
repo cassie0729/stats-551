{
 "cells": [
  {
   "cell_type": "code",
   "metadata": {
    "cell_id": "29b09654-7250-4de5-b934-b6ec46cd26c9",
    "deepnote_to_be_reexecuted": false,
    "source_hash": "b623e53d",
    "execution_start": 1650388106952,
    "execution_millis": 200280209,
    "deepnote_cell_type": "code",
    "deepnote_cell_height": 81
   },
   "source": "",
   "execution_count": 0,
   "outputs": []
  },
  {
   "cell_type": "code",
   "metadata": {
    "cell_id": "00001-28761676-9232-4500-901b-63e7e1261072",
    "deepnote_to_be_reexecuted": false,
    "source_hash": "f1d951a8",
    "execution_start": 1650388106953,
    "execution_millis": 4741,
    "deepnote_cell_type": "code",
    "deepnote_cell_height": 135
   },
   "source": "import seaborn as sns\nimport pandas as pd\nimport numpy as np\nimport matplotlib.pyplot as plt",
   "outputs": [],
   "execution_count": null
  },
  {
   "cell_type": "code",
   "metadata": {
    "cell_id": "00002-10fe8050-1299-40dc-a67d-b76027073d52",
    "deepnote_to_be_reexecuted": false,
    "source_hash": "737fc874",
    "execution_start": 1650388111716,
    "execution_millis": 599,
    "deepnote_cell_type": "code",
    "deepnote_cell_height": 135
   },
   "source": "store = pd.read_csv('stores.csv')\nfeature = pd.read_csv('features.csv')\ntrain = pd.read_csv('train.csv')\ntest = pd.read_csv('test.csv')",
   "outputs": [],
   "execution_count": null
  },
  {
   "cell_type": "code",
   "metadata": {
    "cell_id": "00003-78266ca3-84c0-4c30-9ae5-03a5fc5cf088",
    "deepnote_to_be_reexecuted": false,
    "source_hash": "b4da0e46",
    "execution_start": 1650388112363,
    "execution_millis": 229,
    "deepnote_cell_type": "code",
    "deepnote_cell_height": 428
   },
   "source": "merged_test = test.merge(store, how='left').merge(feature, how='left')\nmerged_test.head()",
   "outputs": [
    {
     "output_type": "execute_result",
     "execution_count": 3,
     "data": {
      "application/vnd.deepnote.dataframe.v3+json": {
       "column_count": 15,
       "row_count": 5,
       "columns": [
        {
         "name": "Store",
         "dtype": "int64",
         "stats": {
          "unique_count": 1,
          "nan_count": 0,
          "min": "1",
          "max": "1",
          "histogram": [
           {
            "bin_start": 0.5,
            "bin_end": 0.6,
            "count": 0
           },
           {
            "bin_start": 0.6,
            "bin_end": 0.7,
            "count": 0
           },
           {
            "bin_start": 0.7,
            "bin_end": 0.8,
            "count": 0
           },
           {
            "bin_start": 0.8,
            "bin_end": 0.9,
            "count": 0
           },
           {
            "bin_start": 0.9,
            "bin_end": 1,
            "count": 0
           },
           {
            "bin_start": 1,
            "bin_end": 1.1,
            "count": 5
           },
           {
            "bin_start": 1.1,
            "bin_end": 1.2000000000000002,
            "count": 0
           },
           {
            "bin_start": 1.2000000000000002,
            "bin_end": 1.3,
            "count": 0
           },
           {
            "bin_start": 1.3,
            "bin_end": 1.4,
            "count": 0
           },
           {
            "bin_start": 1.4,
            "bin_end": 1.5,
            "count": 0
           }
          ]
         }
        },
        {
         "name": "Dept",
         "dtype": "int64",
         "stats": {
          "unique_count": 1,
          "nan_count": 0,
          "min": "1",
          "max": "1",
          "histogram": [
           {
            "bin_start": 0.5,
            "bin_end": 0.6,
            "count": 0
           },
           {
            "bin_start": 0.6,
            "bin_end": 0.7,
            "count": 0
           },
           {
            "bin_start": 0.7,
            "bin_end": 0.8,
            "count": 0
           },
           {
            "bin_start": 0.8,
            "bin_end": 0.9,
            "count": 0
           },
           {
            "bin_start": 0.9,
            "bin_end": 1,
            "count": 0
           },
           {
            "bin_start": 1,
            "bin_end": 1.1,
            "count": 5
           },
           {
            "bin_start": 1.1,
            "bin_end": 1.2000000000000002,
            "count": 0
           },
           {
            "bin_start": 1.2000000000000002,
            "bin_end": 1.3,
            "count": 0
           },
           {
            "bin_start": 1.3,
            "bin_end": 1.4,
            "count": 0
           },
           {
            "bin_start": 1.4,
            "bin_end": 1.5,
            "count": 0
           }
          ]
         }
        },
        {
         "name": "Date",
         "dtype": "object",
         "stats": {
          "unique_count": 5,
          "nan_count": 0,
          "categories": [
           {
            "name": "2012-11-02",
            "count": 1
           },
           {
            "name": "2012-11-09",
            "count": 1
           },
           {
            "name": "3 others",
            "count": 3
           }
          ]
         }
        },
        {
         "name": "IsHoliday",
         "dtype": "bool",
         "stats": {
          "unique_count": 2,
          "nan_count": 0,
          "categories": [
           {
            "name": "False",
            "count": 4
           },
           {
            "name": "True",
            "count": 1
           }
          ]
         }
        },
        {
         "name": "Type",
         "dtype": "object",
         "stats": {
          "unique_count": 1,
          "nan_count": 0,
          "categories": [
           {
            "name": "A",
            "count": 5
           }
          ]
         }
        },
        {
         "name": "Size",
         "dtype": "int64",
         "stats": {
          "unique_count": 1,
          "nan_count": 0,
          "min": "151315",
          "max": "151315",
          "histogram": [
           {
            "bin_start": 151314.5,
            "bin_end": 151314.6,
            "count": 0
           },
           {
            "bin_start": 151314.6,
            "bin_end": 151314.7,
            "count": 0
           },
           {
            "bin_start": 151314.7,
            "bin_end": 151314.8,
            "count": 0
           },
           {
            "bin_start": 151314.8,
            "bin_end": 151314.9,
            "count": 0
           },
           {
            "bin_start": 151314.9,
            "bin_end": 151315,
            "count": 0
           },
           {
            "bin_start": 151315,
            "bin_end": 151315.1,
            "count": 5
           },
           {
            "bin_start": 151315.1,
            "bin_end": 151315.2,
            "count": 0
           },
           {
            "bin_start": 151315.2,
            "bin_end": 151315.3,
            "count": 0
           },
           {
            "bin_start": 151315.3,
            "bin_end": 151315.4,
            "count": 0
           },
           {
            "bin_start": 151315.4,
            "bin_end": 151315.5,
            "count": 0
           }
          ]
         }
        },
        {
         "name": "Temperature",
         "dtype": "float64",
         "stats": {
          "unique_count": 5,
          "nan_count": 0,
          "min": "52.34",
          "max": "61.24",
          "histogram": [
           {
            "bin_start": 52.34,
            "bin_end": 53.230000000000004,
            "count": 2
           },
           {
            "bin_start": 53.230000000000004,
            "bin_end": 54.120000000000005,
            "count": 0
           },
           {
            "bin_start": 54.120000000000005,
            "bin_end": 55.010000000000005,
            "count": 0
           },
           {
            "bin_start": 55.010000000000005,
            "bin_end": 55.900000000000006,
            "count": 1
           },
           {
            "bin_start": 55.900000000000006,
            "bin_end": 56.790000000000006,
            "count": 1
           },
           {
            "bin_start": 56.790000000000006,
            "bin_end": 57.68000000000001,
            "count": 0
           },
           {
            "bin_start": 57.68000000000001,
            "bin_end": 58.57,
            "count": 0
           },
           {
            "bin_start": 58.57,
            "bin_end": 59.46,
            "count": 0
           },
           {
            "bin_start": 59.46,
            "bin_end": 60.35,
            "count": 0
           },
           {
            "bin_start": 60.35,
            "bin_end": 61.24,
            "count": 1
           }
          ]
         }
        },
        {
         "name": "Fuel_Price",
         "dtype": "float64",
         "stats": {
          "unique_count": 5,
          "nan_count": 0,
          "min": "3.207",
          "max": "3.386",
          "histogram": [
           {
            "bin_start": 3.207,
            "bin_end": 3.2249,
            "count": 2
           },
           {
            "bin_start": 3.2249,
            "bin_end": 3.2428,
            "count": 0
           },
           {
            "bin_start": 3.2428,
            "bin_end": 3.2607,
            "count": 1
           },
           {
            "bin_start": 3.2607,
            "bin_end": 3.2786,
            "count": 0
           },
           {
            "bin_start": 3.2786,
            "bin_end": 3.2965,
            "count": 0
           },
           {
            "bin_start": 3.2965,
            "bin_end": 3.3144,
            "count": 1
           },
           {
            "bin_start": 3.3144,
            "bin_end": 3.3323,
            "count": 0
           },
           {
            "bin_start": 3.3323,
            "bin_end": 3.3502,
            "count": 0
           },
           {
            "bin_start": 3.3502,
            "bin_end": 3.3681,
            "count": 0
           },
           {
            "bin_start": 3.3681,
            "bin_end": 3.386,
            "count": 1
           }
          ]
         }
        },
        {
         "name": "MarkDown1",
         "dtype": "float64",
         "stats": {
          "unique_count": 5,
          "nan_count": 0,
          "min": "883.59",
          "max": "11421.32",
          "histogram": [
           {
            "bin_start": 883.59,
            "bin_end": 1937.3629999999998,
            "count": 1
           },
           {
            "bin_start": 1937.3629999999998,
            "bin_end": 2991.136,
            "count": 1
           },
           {
            "bin_start": 2991.136,
            "bin_end": 4044.9089999999997,
            "count": 0
           },
           {
            "bin_start": 4044.9089999999997,
            "bin_end": 5098.682,
            "count": 0
           },
           {
            "bin_start": 5098.682,
            "bin_end": 6152.455,
            "count": 0
           },
           {
            "bin_start": 6152.455,
            "bin_end": 7206.227999999999,
            "count": 1
           },
           {
            "bin_start": 7206.227999999999,
            "bin_end": 8260.000999999998,
            "count": 0
           },
           {
            "bin_start": 8260.000999999998,
            "bin_end": 9313.774,
            "count": 0
           },
           {
            "bin_start": 9313.774,
            "bin_end": 10367.546999999999,
            "count": 1
           },
           {
            "bin_start": 10367.546999999999,
            "bin_end": 11421.32,
            "count": 1
           }
          ]
         }
        },
        {
         "name": "MarkDown2",
         "dtype": "float64",
         "stats": {
          "unique_count": 4,
          "nan_count": 1,
          "min": "4.17",
          "max": "5147.7",
          "histogram": [
           {
            "bin_start": 4.17,
            "bin_end": 518.5229999999999,
            "count": 2
           },
           {
            "bin_start": 518.5229999999999,
            "bin_end": 1032.876,
            "count": 0
           },
           {
            "bin_start": 1032.876,
            "bin_end": 1547.2289999999998,
            "count": 0
           },
           {
            "bin_start": 1547.2289999999998,
            "bin_end": 2061.582,
            "count": 0
           },
           {
            "bin_start": 2061.582,
            "bin_end": 2575.935,
            "count": 0
           },
           {
            "bin_start": 2575.935,
            "bin_end": 3090.2879999999996,
            "count": 0
           },
           {
            "bin_start": 3090.2879999999996,
            "bin_end": 3604.6409999999996,
            "count": 1
           },
           {
            "bin_start": 3604.6409999999996,
            "bin_end": 4118.994,
            "count": 0
           },
           {
            "bin_start": 4118.994,
            "bin_end": 4633.347,
            "count": 0
           },
           {
            "bin_start": 4633.347,
            "bin_end": 5147.7,
            "count": 1
           }
          ]
         }
        },
        {
         "name": "MarkDown3",
         "dtype": "float64",
         "stats": {
          "unique_count": 5,
          "nan_count": 0,
          "min": "40.28",
          "max": "74910.32",
          "histogram": [
           {
            "bin_start": 40.28,
            "bin_end": 7527.284000000001,
            "count": 4
           },
           {
            "bin_start": 7527.284000000001,
            "bin_end": 15014.288000000002,
            "count": 0
           },
           {
            "bin_start": 15014.288000000002,
            "bin_end": 22501.292,
            "count": 0
           },
           {
            "bin_start": 22501.292,
            "bin_end": 29988.296000000002,
            "count": 0
           },
           {
            "bin_start": 29988.296000000002,
            "bin_end": 37475.3,
            "count": 0
           },
           {
            "bin_start": 37475.3,
            "bin_end": 44962.304000000004,
            "count": 0
           },
           {
            "bin_start": 44962.304000000004,
            "bin_end": 52449.308000000005,
            "count": 0
           },
           {
            "bin_start": 52449.308000000005,
            "bin_end": 59936.312000000005,
            "count": 0
           },
           {
            "bin_start": 59936.312000000005,
            "bin_end": 67423.316,
            "count": 0
           },
           {
            "bin_start": 67423.316,
            "bin_end": 74910.32,
            "count": 1
           }
          ]
         }
        },
        {
         "name": "MarkDown4",
         "dtype": "float64",
         "stats": {
          "unique_count": 5,
          "nan_count": 0,
          "min": "150.57",
          "max": "4646.79",
          "histogram": [
           {
            "bin_start": 150.57,
            "bin_end": 600.192,
            "count": 2
           },
           {
            "bin_start": 600.192,
            "bin_end": 1049.814,
            "count": 0
           },
           {
            "bin_start": 1049.814,
            "bin_end": 1499.436,
            "count": 1
           },
           {
            "bin_start": 1499.436,
            "bin_end": 1949.058,
            "count": 0
           },
           {
            "bin_start": 1949.058,
            "bin_end": 2398.6800000000003,
            "count": 0
           },
           {
            "bin_start": 2398.6800000000003,
            "bin_end": 2848.302,
            "count": 0
           },
           {
            "bin_start": 2848.302,
            "bin_end": 3297.9240000000004,
            "count": 0
           },
           {
            "bin_start": 3297.9240000000004,
            "bin_end": 3747.5460000000003,
            "count": 1
           },
           {
            "bin_start": 3747.5460000000003,
            "bin_end": 4197.168,
            "count": 0
           },
           {
            "bin_start": 4197.168,
            "bin_end": 4646.79,
            "count": 1
           }
          ]
         }
        },
        {
         "name": "MarkDown5",
         "dtype": "float64",
         "stats": {
          "unique_count": 5,
          "nan_count": 0,
          "min": "303.32",
          "max": "6966.34",
          "histogram": [
           {
            "bin_start": 303.32,
            "bin_end": 969.6220000000001,
            "count": 1
           },
           {
            "bin_start": 969.6220000000001,
            "bin_end": 1635.924,
            "count": 0
           },
           {
            "bin_start": 1635.924,
            "bin_end": 2302.226,
            "count": 0
           },
           {
            "bin_start": 2302.226,
            "bin_end": 2968.5280000000002,
            "count": 1
           },
           {
            "bin_start": 2968.5280000000002,
            "bin_end": 3634.8300000000004,
            "count": 0
           },
           {
            "bin_start": 3634.8300000000004,
            "bin_end": 4301.132,
            "count": 0
           },
           {
            "bin_start": 4301.132,
            "bin_end": 4967.434,
            "count": 0
           },
           {
            "bin_start": 4967.434,
            "bin_end": 5633.736,
            "count": 0
           },
           {
            "bin_start": 5633.736,
            "bin_end": 6300.038,
            "count": 1
           },
           {
            "bin_start": 6300.038,
            "bin_end": 6966.34,
            "count": 2
           }
          ]
         }
        },
        {
         "name": "CPI",
         "dtype": "float64",
         "stats": {
          "unique_count": 5,
          "nan_count": 0,
          "min": "223.4627793",
          "max": "223.6109842",
          "histogram": [
           {
            "bin_start": 223.4627793,
            "bin_end": 223.47759979,
            "count": 1
           },
           {
            "bin_start": 223.47759979,
            "bin_end": 223.49242028,
            "count": 1
           },
           {
            "bin_start": 223.49242028,
            "bin_end": 223.50724076999998,
            "count": 0
           },
           {
            "bin_start": 223.50724076999998,
            "bin_end": 223.52206126,
            "count": 1
           },
           {
            "bin_start": 223.52206126,
            "bin_end": 223.53688175,
            "count": 0
           },
           {
            "bin_start": 223.53688175,
            "bin_end": 223.55170224,
            "count": 0
           },
           {
            "bin_start": 223.55170224,
            "bin_end": 223.56652273,
            "count": 1
           },
           {
            "bin_start": 223.56652273,
            "bin_end": 223.58134321999998,
            "count": 0
           },
           {
            "bin_start": 223.58134321999998,
            "bin_end": 223.59616370999998,
            "count": 0
           },
           {
            "bin_start": 223.59616370999998,
            "bin_end": 223.6109842,
            "count": 1
           }
          ]
         }
        },
        {
         "name": "Unemployment",
         "dtype": "float64",
         "stats": {
          "unique_count": 1,
          "nan_count": 0,
          "min": "6.573",
          "max": "6.573",
          "histogram": [
           {
            "bin_start": 6.073,
            "bin_end": 6.173,
            "count": 0
           },
           {
            "bin_start": 6.173,
            "bin_end": 6.273000000000001,
            "count": 0
           },
           {
            "bin_start": 6.273000000000001,
            "bin_end": 6.373,
            "count": 0
           },
           {
            "bin_start": 6.373,
            "bin_end": 6.473000000000001,
            "count": 0
           },
           {
            "bin_start": 6.473000000000001,
            "bin_end": 6.573,
            "count": 0
           },
           {
            "bin_start": 6.573,
            "bin_end": 6.673,
            "count": 5
           },
           {
            "bin_start": 6.673,
            "bin_end": 6.773000000000001,
            "count": 0
           },
           {
            "bin_start": 6.773000000000001,
            "bin_end": 6.873,
            "count": 0
           },
           {
            "bin_start": 6.873,
            "bin_end": 6.973000000000001,
            "count": 0
           },
           {
            "bin_start": 6.973000000000001,
            "bin_end": 7.073,
            "count": 0
           }
          ]
         }
        },
        {
         "name": "_deepnote_index_column",
         "dtype": "int64"
        }
       ],
       "rows": [
        {
         "Store": 1,
         "Dept": 1,
         "Date": "2012-11-02",
         "IsHoliday": false,
         "Type": "A",
         "Size": 151315,
         "Temperature": 55.32,
         "Fuel_Price": 3.386,
         "MarkDown1": 6766.44,
         "MarkDown2": 5147.7,
         "MarkDown3": 50.82,
         "MarkDown4": 3639.9,
         "MarkDown5": 2737.42,
         "CPI": 223.4627793,
         "Unemployment": 6.573,
         "_deepnote_index_column": 0
        },
        {
         "Store": 1,
         "Dept": 1,
         "Date": "2012-11-09",
         "IsHoliday": false,
         "Type": "A",
         "Size": 151315,
         "Temperature": 61.24,
         "Fuel_Price": 3.314,
         "MarkDown1": 11421.32,
         "MarkDown2": 3370.89,
         "MarkDown3": 40.28,
         "MarkDown4": 4646.79,
         "MarkDown5": 6154.16,
         "CPI": 223.4813073,
         "Unemployment": 6.573,
         "_deepnote_index_column": 1
        },
        {
         "Store": 1,
         "Dept": 1,
         "Date": "2012-11-16",
         "IsHoliday": false,
         "Type": "A",
         "Size": 151315,
         "Temperature": 52.92,
         "Fuel_Price": 3.252,
         "MarkDown1": 9696.28,
         "MarkDown2": 292.1,
         "MarkDown3": 103.78,
         "MarkDown4": 1133.15,
         "MarkDown5": 6612.69,
         "CPI": 223.5129105,
         "Unemployment": 6.573,
         "_deepnote_index_column": 2
        },
        {
         "Store": 1,
         "Dept": 1,
         "Date": "2012-11-23",
         "IsHoliday": true,
         "Type": "A",
         "Size": 151315,
         "Temperature": 56.23,
         "Fuel_Price": 3.211,
         "MarkDown1": 883.59,
         "MarkDown2": 4.17,
         "MarkDown3": 74910.32,
         "MarkDown4": 209.91,
         "MarkDown5": 303.32,
         "CPI": 223.5619474,
         "Unemployment": 6.573,
         "_deepnote_index_column": 3
        },
        {
         "Store": 1,
         "Dept": 1,
         "Date": "2012-11-30",
         "IsHoliday": false,
         "Type": "A",
         "Size": 151315,
         "Temperature": 52.34,
         "Fuel_Price": 3.207,
         "MarkDown1": 2460.03,
         "MarkDown2": "nan",
         "MarkDown3": 3838.35,
         "MarkDown4": 150.57,
         "MarkDown5": 6966.34,
         "CPI": 223.6109842,
         "Unemployment": 6.573,
         "_deepnote_index_column": 4
        }
       ]
      },
      "text/plain": "   Store  Dept        Date  IsHoliday Type    Size  Temperature  Fuel_Price  \\\n0      1     1  2012-11-02      False    A  151315        55.32       3.386   \n1      1     1  2012-11-09      False    A  151315        61.24       3.314   \n2      1     1  2012-11-16      False    A  151315        52.92       3.252   \n3      1     1  2012-11-23       True    A  151315        56.23       3.211   \n4      1     1  2012-11-30      False    A  151315        52.34       3.207   \n\n   MarkDown1  MarkDown2  MarkDown3  MarkDown4  MarkDown5         CPI  \\\n0    6766.44    5147.70      50.82    3639.90    2737.42  223.462779   \n1   11421.32    3370.89      40.28    4646.79    6154.16  223.481307   \n2    9696.28     292.10     103.78    1133.15    6612.69  223.512911   \n3     883.59       4.17   74910.32     209.91     303.32  223.561947   \n4    2460.03        NaN    3838.35     150.57    6966.34  223.610984   \n\n   Unemployment  \n0         6.573  \n1         6.573  \n2         6.573  \n3         6.573  \n4         6.573  ",
      "text/html": "<div>\n<style scoped>\n    .dataframe tbody tr th:only-of-type {\n        vertical-align: middle;\n    }\n\n    .dataframe tbody tr th {\n        vertical-align: top;\n    }\n\n    .dataframe thead th {\n        text-align: right;\n    }\n</style>\n<table border=\"1\" class=\"dataframe\">\n  <thead>\n    <tr style=\"text-align: right;\">\n      <th></th>\n      <th>Store</th>\n      <th>Dept</th>\n      <th>Date</th>\n      <th>IsHoliday</th>\n      <th>Type</th>\n      <th>Size</th>\n      <th>Temperature</th>\n      <th>Fuel_Price</th>\n      <th>MarkDown1</th>\n      <th>MarkDown2</th>\n      <th>MarkDown3</th>\n      <th>MarkDown4</th>\n      <th>MarkDown5</th>\n      <th>CPI</th>\n      <th>Unemployment</th>\n    </tr>\n  </thead>\n  <tbody>\n    <tr>\n      <th>0</th>\n      <td>1</td>\n      <td>1</td>\n      <td>2012-11-02</td>\n      <td>False</td>\n      <td>A</td>\n      <td>151315</td>\n      <td>55.32</td>\n      <td>3.386</td>\n      <td>6766.44</td>\n      <td>5147.70</td>\n      <td>50.82</td>\n      <td>3639.90</td>\n      <td>2737.42</td>\n      <td>223.462779</td>\n      <td>6.573</td>\n    </tr>\n    <tr>\n      <th>1</th>\n      <td>1</td>\n      <td>1</td>\n      <td>2012-11-09</td>\n      <td>False</td>\n      <td>A</td>\n      <td>151315</td>\n      <td>61.24</td>\n      <td>3.314</td>\n      <td>11421.32</td>\n      <td>3370.89</td>\n      <td>40.28</td>\n      <td>4646.79</td>\n      <td>6154.16</td>\n      <td>223.481307</td>\n      <td>6.573</td>\n    </tr>\n    <tr>\n      <th>2</th>\n      <td>1</td>\n      <td>1</td>\n      <td>2012-11-16</td>\n      <td>False</td>\n      <td>A</td>\n      <td>151315</td>\n      <td>52.92</td>\n      <td>3.252</td>\n      <td>9696.28</td>\n      <td>292.10</td>\n      <td>103.78</td>\n      <td>1133.15</td>\n      <td>6612.69</td>\n      <td>223.512911</td>\n      <td>6.573</td>\n    </tr>\n    <tr>\n      <th>3</th>\n      <td>1</td>\n      <td>1</td>\n      <td>2012-11-23</td>\n      <td>True</td>\n      <td>A</td>\n      <td>151315</td>\n      <td>56.23</td>\n      <td>3.211</td>\n      <td>883.59</td>\n      <td>4.17</td>\n      <td>74910.32</td>\n      <td>209.91</td>\n      <td>303.32</td>\n      <td>223.561947</td>\n      <td>6.573</td>\n    </tr>\n    <tr>\n      <th>4</th>\n      <td>1</td>\n      <td>1</td>\n      <td>2012-11-30</td>\n      <td>False</td>\n      <td>A</td>\n      <td>151315</td>\n      <td>52.34</td>\n      <td>3.207</td>\n      <td>2460.03</td>\n      <td>NaN</td>\n      <td>3838.35</td>\n      <td>150.57</td>\n      <td>6966.34</td>\n      <td>223.610984</td>\n      <td>6.573</td>\n    </tr>\n  </tbody>\n</table>\n</div>"
     },
     "metadata": {}
    }
   ],
   "execution_count": null
  },
  {
   "cell_type": "code",
   "metadata": {
    "cell_id": "00004-f1ee3cfa-c8b9-46b7-8ed5-1a6bd7af068f",
    "deepnote_to_be_reexecuted": false,
    "source_hash": "af307742",
    "execution_start": 1650388112604,
    "execution_millis": 655,
    "deepnote_cell_type": "code",
    "deepnote_cell_height": 428
   },
   "source": "merged_train = train.merge(store, how='left').merge(feature, how='left')\nmerged_train.head()",
   "outputs": [
    {
     "output_type": "execute_result",
     "execution_count": 4,
     "data": {
      "application/vnd.deepnote.dataframe.v3+json": {
       "column_count": 16,
       "row_count": 5,
       "columns": [
        {
         "name": "Store",
         "dtype": "int64",
         "stats": {
          "unique_count": 1,
          "nan_count": 0,
          "min": "1",
          "max": "1",
          "histogram": [
           {
            "bin_start": 0.5,
            "bin_end": 0.6,
            "count": 0
           },
           {
            "bin_start": 0.6,
            "bin_end": 0.7,
            "count": 0
           },
           {
            "bin_start": 0.7,
            "bin_end": 0.8,
            "count": 0
           },
           {
            "bin_start": 0.8,
            "bin_end": 0.9,
            "count": 0
           },
           {
            "bin_start": 0.9,
            "bin_end": 1,
            "count": 0
           },
           {
            "bin_start": 1,
            "bin_end": 1.1,
            "count": 5
           },
           {
            "bin_start": 1.1,
            "bin_end": 1.2000000000000002,
            "count": 0
           },
           {
            "bin_start": 1.2000000000000002,
            "bin_end": 1.3,
            "count": 0
           },
           {
            "bin_start": 1.3,
            "bin_end": 1.4,
            "count": 0
           },
           {
            "bin_start": 1.4,
            "bin_end": 1.5,
            "count": 0
           }
          ]
         }
        },
        {
         "name": "Dept",
         "dtype": "int64",
         "stats": {
          "unique_count": 1,
          "nan_count": 0,
          "min": "1",
          "max": "1",
          "histogram": [
           {
            "bin_start": 0.5,
            "bin_end": 0.6,
            "count": 0
           },
           {
            "bin_start": 0.6,
            "bin_end": 0.7,
            "count": 0
           },
           {
            "bin_start": 0.7,
            "bin_end": 0.8,
            "count": 0
           },
           {
            "bin_start": 0.8,
            "bin_end": 0.9,
            "count": 0
           },
           {
            "bin_start": 0.9,
            "bin_end": 1,
            "count": 0
           },
           {
            "bin_start": 1,
            "bin_end": 1.1,
            "count": 5
           },
           {
            "bin_start": 1.1,
            "bin_end": 1.2000000000000002,
            "count": 0
           },
           {
            "bin_start": 1.2000000000000002,
            "bin_end": 1.3,
            "count": 0
           },
           {
            "bin_start": 1.3,
            "bin_end": 1.4,
            "count": 0
           },
           {
            "bin_start": 1.4,
            "bin_end": 1.5,
            "count": 0
           }
          ]
         }
        },
        {
         "name": "Date",
         "dtype": "object",
         "stats": {
          "unique_count": 5,
          "nan_count": 0,
          "categories": [
           {
            "name": "2010-02-05",
            "count": 1
           },
           {
            "name": "2010-02-12",
            "count": 1
           },
           {
            "name": "3 others",
            "count": 3
           }
          ]
         }
        },
        {
         "name": "Weekly_Sales",
         "dtype": "float64",
         "stats": {
          "unique_count": 5,
          "nan_count": 0,
          "min": "19403.54",
          "max": "46039.49",
          "histogram": [
           {
            "bin_start": 19403.54,
            "bin_end": 22067.135000000002,
            "count": 2
           },
           {
            "bin_start": 22067.135000000002,
            "bin_end": 24730.73,
            "count": 0
           },
           {
            "bin_start": 24730.73,
            "bin_end": 27394.325,
            "count": 1
           },
           {
            "bin_start": 27394.325,
            "bin_end": 30057.92,
            "count": 0
           },
           {
            "bin_start": 30057.92,
            "bin_end": 32721.515,
            "count": 0
           },
           {
            "bin_start": 32721.515,
            "bin_end": 35385.11,
            "count": 0
           },
           {
            "bin_start": 35385.11,
            "bin_end": 38048.705,
            "count": 0
           },
           {
            "bin_start": 38048.705,
            "bin_end": 40712.3,
            "count": 0
           },
           {
            "bin_start": 40712.3,
            "bin_end": 43375.895000000004,
            "count": 1
           },
           {
            "bin_start": 43375.895000000004,
            "bin_end": 46039.49,
            "count": 1
           }
          ]
         }
        },
        {
         "name": "IsHoliday",
         "dtype": "bool",
         "stats": {
          "unique_count": 2,
          "nan_count": 0,
          "categories": [
           {
            "name": "False",
            "count": 4
           },
           {
            "name": "True",
            "count": 1
           }
          ]
         }
        },
        {
         "name": "Type",
         "dtype": "object",
         "stats": {
          "unique_count": 1,
          "nan_count": 0,
          "categories": [
           {
            "name": "A",
            "count": 5
           }
          ]
         }
        },
        {
         "name": "Size",
         "dtype": "int64",
         "stats": {
          "unique_count": 1,
          "nan_count": 0,
          "min": "151315",
          "max": "151315",
          "histogram": [
           {
            "bin_start": 151314.5,
            "bin_end": 151314.6,
            "count": 0
           },
           {
            "bin_start": 151314.6,
            "bin_end": 151314.7,
            "count": 0
           },
           {
            "bin_start": 151314.7,
            "bin_end": 151314.8,
            "count": 0
           },
           {
            "bin_start": 151314.8,
            "bin_end": 151314.9,
            "count": 0
           },
           {
            "bin_start": 151314.9,
            "bin_end": 151315,
            "count": 0
           },
           {
            "bin_start": 151315,
            "bin_end": 151315.1,
            "count": 5
           },
           {
            "bin_start": 151315.1,
            "bin_end": 151315.2,
            "count": 0
           },
           {
            "bin_start": 151315.2,
            "bin_end": 151315.3,
            "count": 0
           },
           {
            "bin_start": 151315.3,
            "bin_end": 151315.4,
            "count": 0
           },
           {
            "bin_start": 151315.4,
            "bin_end": 151315.5,
            "count": 0
           }
          ]
         }
        },
        {
         "name": "Temperature",
         "dtype": "float64",
         "stats": {
          "unique_count": 5,
          "nan_count": 0,
          "min": "38.51",
          "max": "46.63",
          "histogram": [
           {
            "bin_start": 38.51,
            "bin_end": 39.321999999999996,
            "count": 1
           },
           {
            "bin_start": 39.321999999999996,
            "bin_end": 40.134,
            "count": 1
           },
           {
            "bin_start": 40.134,
            "bin_end": 40.946,
            "count": 0
           },
           {
            "bin_start": 40.946,
            "bin_end": 41.758,
            "count": 0
           },
           {
            "bin_start": 41.758,
            "bin_end": 42.57,
            "count": 1
           },
           {
            "bin_start": 42.57,
            "bin_end": 43.382000000000005,
            "count": 0
           },
           {
            "bin_start": 43.382000000000005,
            "bin_end": 44.194,
            "count": 0
           },
           {
            "bin_start": 44.194,
            "bin_end": 45.006,
            "count": 0
           },
           {
            "bin_start": 45.006,
            "bin_end": 45.818000000000005,
            "count": 0
           },
           {
            "bin_start": 45.818000000000005,
            "bin_end": 46.63,
            "count": 2
           }
          ]
         }
        },
        {
         "name": "Fuel_Price",
         "dtype": "float64",
         "stats": {
          "unique_count": 5,
          "nan_count": 0,
          "min": "2.514",
          "max": "2.625",
          "histogram": [
           {
            "bin_start": 2.514,
            "bin_end": 2.5250999999999997,
            "count": 1
           },
           {
            "bin_start": 2.5250999999999997,
            "bin_end": 2.5362,
            "count": 0
           },
           {
            "bin_start": 2.5362,
            "bin_end": 2.5473,
            "count": 0
           },
           {
            "bin_start": 2.5473,
            "bin_end": 2.5584,
            "count": 1
           },
           {
            "bin_start": 2.5584,
            "bin_end": 2.5694999999999997,
            "count": 1
           },
           {
            "bin_start": 2.5694999999999997,
            "bin_end": 2.5806,
            "count": 1
           },
           {
            "bin_start": 2.5806,
            "bin_end": 2.5917,
            "count": 0
           },
           {
            "bin_start": 2.5917,
            "bin_end": 2.6028,
            "count": 0
           },
           {
            "bin_start": 2.6028,
            "bin_end": 2.6139,
            "count": 0
           },
           {
            "bin_start": 2.6139,
            "bin_end": 2.625,
            "count": 1
           }
          ]
         }
        },
        {
         "name": "MarkDown1",
         "dtype": "float64",
         "stats": {
          "unique_count": 0,
          "nan_count": 5,
          "min": null,
          "max": null,
          "histogram": [
           {
            "bin_start": 0,
            "bin_end": 0.1,
            "count": 0
           },
           {
            "bin_start": 0.1,
            "bin_end": 0.2,
            "count": 0
           },
           {
            "bin_start": 0.2,
            "bin_end": 0.30000000000000004,
            "count": 0
           },
           {
            "bin_start": 0.30000000000000004,
            "bin_end": 0.4,
            "count": 0
           },
           {
            "bin_start": 0.4,
            "bin_end": 0.5,
            "count": 0
           },
           {
            "bin_start": 0.5,
            "bin_end": 0.6000000000000001,
            "count": 0
           },
           {
            "bin_start": 0.6000000000000001,
            "bin_end": 0.7000000000000001,
            "count": 0
           },
           {
            "bin_start": 0.7000000000000001,
            "bin_end": 0.8,
            "count": 0
           },
           {
            "bin_start": 0.8,
            "bin_end": 0.9,
            "count": 0
           },
           {
            "bin_start": 0.9,
            "bin_end": 1,
            "count": 0
           }
          ]
         }
        },
        {
         "name": "MarkDown2",
         "dtype": "float64",
         "stats": {
          "unique_count": 0,
          "nan_count": 5,
          "min": null,
          "max": null,
          "histogram": [
           {
            "bin_start": 0,
            "bin_end": 0.1,
            "count": 0
           },
           {
            "bin_start": 0.1,
            "bin_end": 0.2,
            "count": 0
           },
           {
            "bin_start": 0.2,
            "bin_end": 0.30000000000000004,
            "count": 0
           },
           {
            "bin_start": 0.30000000000000004,
            "bin_end": 0.4,
            "count": 0
           },
           {
            "bin_start": 0.4,
            "bin_end": 0.5,
            "count": 0
           },
           {
            "bin_start": 0.5,
            "bin_end": 0.6000000000000001,
            "count": 0
           },
           {
            "bin_start": 0.6000000000000001,
            "bin_end": 0.7000000000000001,
            "count": 0
           },
           {
            "bin_start": 0.7000000000000001,
            "bin_end": 0.8,
            "count": 0
           },
           {
            "bin_start": 0.8,
            "bin_end": 0.9,
            "count": 0
           },
           {
            "bin_start": 0.9,
            "bin_end": 1,
            "count": 0
           }
          ]
         }
        },
        {
         "name": "MarkDown3",
         "dtype": "float64",
         "stats": {
          "unique_count": 0,
          "nan_count": 5,
          "min": null,
          "max": null,
          "histogram": [
           {
            "bin_start": 0,
            "bin_end": 0.1,
            "count": 0
           },
           {
            "bin_start": 0.1,
            "bin_end": 0.2,
            "count": 0
           },
           {
            "bin_start": 0.2,
            "bin_end": 0.30000000000000004,
            "count": 0
           },
           {
            "bin_start": 0.30000000000000004,
            "bin_end": 0.4,
            "count": 0
           },
           {
            "bin_start": 0.4,
            "bin_end": 0.5,
            "count": 0
           },
           {
            "bin_start": 0.5,
            "bin_end": 0.6000000000000001,
            "count": 0
           },
           {
            "bin_start": 0.6000000000000001,
            "bin_end": 0.7000000000000001,
            "count": 0
           },
           {
            "bin_start": 0.7000000000000001,
            "bin_end": 0.8,
            "count": 0
           },
           {
            "bin_start": 0.8,
            "bin_end": 0.9,
            "count": 0
           },
           {
            "bin_start": 0.9,
            "bin_end": 1,
            "count": 0
           }
          ]
         }
        },
        {
         "name": "MarkDown4",
         "dtype": "float64",
         "stats": {
          "unique_count": 0,
          "nan_count": 5,
          "min": null,
          "max": null,
          "histogram": [
           {
            "bin_start": 0,
            "bin_end": 0.1,
            "count": 0
           },
           {
            "bin_start": 0.1,
            "bin_end": 0.2,
            "count": 0
           },
           {
            "bin_start": 0.2,
            "bin_end": 0.30000000000000004,
            "count": 0
           },
           {
            "bin_start": 0.30000000000000004,
            "bin_end": 0.4,
            "count": 0
           },
           {
            "bin_start": 0.4,
            "bin_end": 0.5,
            "count": 0
           },
           {
            "bin_start": 0.5,
            "bin_end": 0.6000000000000001,
            "count": 0
           },
           {
            "bin_start": 0.6000000000000001,
            "bin_end": 0.7000000000000001,
            "count": 0
           },
           {
            "bin_start": 0.7000000000000001,
            "bin_end": 0.8,
            "count": 0
           },
           {
            "bin_start": 0.8,
            "bin_end": 0.9,
            "count": 0
           },
           {
            "bin_start": 0.9,
            "bin_end": 1,
            "count": 0
           }
          ]
         }
        },
        {
         "name": "MarkDown5",
         "dtype": "float64",
         "stats": {
          "unique_count": 0,
          "nan_count": 5,
          "min": null,
          "max": null,
          "histogram": [
           {
            "bin_start": 0,
            "bin_end": 0.1,
            "count": 0
           },
           {
            "bin_start": 0.1,
            "bin_end": 0.2,
            "count": 0
           },
           {
            "bin_start": 0.2,
            "bin_end": 0.30000000000000004,
            "count": 0
           },
           {
            "bin_start": 0.30000000000000004,
            "bin_end": 0.4,
            "count": 0
           },
           {
            "bin_start": 0.4,
            "bin_end": 0.5,
            "count": 0
           },
           {
            "bin_start": 0.5,
            "bin_end": 0.6000000000000001,
            "count": 0
           },
           {
            "bin_start": 0.6000000000000001,
            "bin_end": 0.7000000000000001,
            "count": 0
           },
           {
            "bin_start": 0.7000000000000001,
            "bin_end": 0.8,
            "count": 0
           },
           {
            "bin_start": 0.8,
            "bin_end": 0.9,
            "count": 0
           },
           {
            "bin_start": 0.9,
            "bin_end": 1,
            "count": 0
           }
          ]
         }
        },
        {
         "name": "CPI",
         "dtype": "float64",
         "stats": {
          "unique_count": 5,
          "nan_count": 0,
          "min": "211.0963582",
          "max": "211.3501429",
          "histogram": [
           {
            "bin_start": 211.0963582,
            "bin_end": 211.12173667,
            "count": 1
           },
           {
            "bin_start": 211.12173667,
            "bin_end": 211.14711514,
            "count": 0
           },
           {
            "bin_start": 211.14711514,
            "bin_end": 211.17249361,
            "count": 0
           },
           {
            "bin_start": 211.17249361,
            "bin_end": 211.19787208,
            "count": 0
           },
           {
            "bin_start": 211.19787208,
            "bin_end": 211.22325055,
            "count": 0
           },
           {
            "bin_start": 211.22325055,
            "bin_end": 211.24862902,
            "count": 1
           },
           {
            "bin_start": 211.24862902,
            "bin_end": 211.27400749,
            "count": 0
           },
           {
            "bin_start": 211.27400749,
            "bin_end": 211.29938596,
            "count": 1
           },
           {
            "bin_start": 211.29938596,
            "bin_end": 211.32476443000002,
            "count": 1
           },
           {
            "bin_start": 211.32476443000002,
            "bin_end": 211.3501429,
            "count": 1
           }
          ]
         }
        },
        {
         "name": "Unemployment",
         "dtype": "float64",
         "stats": {
          "unique_count": 1,
          "nan_count": 0,
          "min": "8.106",
          "max": "8.106",
          "histogram": [
           {
            "bin_start": 7.606,
            "bin_end": 7.7059999999999995,
            "count": 0
           },
           {
            "bin_start": 7.7059999999999995,
            "bin_end": 7.806,
            "count": 0
           },
           {
            "bin_start": 7.806,
            "bin_end": 7.906,
            "count": 0
           },
           {
            "bin_start": 7.906,
            "bin_end": 8.006,
            "count": 0
           },
           {
            "bin_start": 8.006,
            "bin_end": 8.106,
            "count": 0
           },
           {
            "bin_start": 8.106,
            "bin_end": 8.206,
            "count": 5
           },
           {
            "bin_start": 8.206,
            "bin_end": 8.306,
            "count": 0
           },
           {
            "bin_start": 8.306,
            "bin_end": 8.406,
            "count": 0
           },
           {
            "bin_start": 8.406,
            "bin_end": 8.506,
            "count": 0
           },
           {
            "bin_start": 8.506,
            "bin_end": 8.606,
            "count": 0
           }
          ]
         }
        },
        {
         "name": "_deepnote_index_column",
         "dtype": "int64"
        }
       ],
       "rows": [
        {
         "Store": 1,
         "Dept": 1,
         "Date": "2010-02-05",
         "Weekly_Sales": 24924.5,
         "IsHoliday": false,
         "Type": "A",
         "Size": 151315,
         "Temperature": 42.31,
         "Fuel_Price": 2.572,
         "MarkDown1": "nan",
         "MarkDown2": "nan",
         "MarkDown3": "nan",
         "MarkDown4": "nan",
         "MarkDown5": "nan",
         "CPI": 211.0963582,
         "Unemployment": 8.106,
         "_deepnote_index_column": 0
        },
        {
         "Store": 1,
         "Dept": 1,
         "Date": "2010-02-12",
         "Weekly_Sales": 46039.49,
         "IsHoliday": true,
         "Type": "A",
         "Size": 151315,
         "Temperature": 38.51,
         "Fuel_Price": 2.548,
         "MarkDown1": "nan",
         "MarkDown2": "nan",
         "MarkDown3": "nan",
         "MarkDown4": "nan",
         "MarkDown5": "nan",
         "CPI": 211.2421698,
         "Unemployment": 8.106,
         "_deepnote_index_column": 1
        },
        {
         "Store": 1,
         "Dept": 1,
         "Date": "2010-02-19",
         "Weekly_Sales": 41595.55,
         "IsHoliday": false,
         "Type": "A",
         "Size": 151315,
         "Temperature": 39.93,
         "Fuel_Price": 2.514,
         "MarkDown1": "nan",
         "MarkDown2": "nan",
         "MarkDown3": "nan",
         "MarkDown4": "nan",
         "MarkDown5": "nan",
         "CPI": 211.2891429,
         "Unemployment": 8.106,
         "_deepnote_index_column": 2
        },
        {
         "Store": 1,
         "Dept": 1,
         "Date": "2010-02-26",
         "Weekly_Sales": 19403.54,
         "IsHoliday": false,
         "Type": "A",
         "Size": 151315,
         "Temperature": 46.63,
         "Fuel_Price": 2.561,
         "MarkDown1": "nan",
         "MarkDown2": "nan",
         "MarkDown3": "nan",
         "MarkDown4": "nan",
         "MarkDown5": "nan",
         "CPI": 211.3196429,
         "Unemployment": 8.106,
         "_deepnote_index_column": 3
        },
        {
         "Store": 1,
         "Dept": 1,
         "Date": "2010-03-05",
         "Weekly_Sales": 21827.9,
         "IsHoliday": false,
         "Type": "A",
         "Size": 151315,
         "Temperature": 46.5,
         "Fuel_Price": 2.625,
         "MarkDown1": "nan",
         "MarkDown2": "nan",
         "MarkDown3": "nan",
         "MarkDown4": "nan",
         "MarkDown5": "nan",
         "CPI": 211.3501429,
         "Unemployment": 8.106,
         "_deepnote_index_column": 4
        }
       ]
      },
      "text/plain": "   Store  Dept        Date  Weekly_Sales  IsHoliday Type    Size  Temperature  \\\n0      1     1  2010-02-05      24924.50      False    A  151315        42.31   \n1      1     1  2010-02-12      46039.49       True    A  151315        38.51   \n2      1     1  2010-02-19      41595.55      False    A  151315        39.93   \n3      1     1  2010-02-26      19403.54      False    A  151315        46.63   \n4      1     1  2010-03-05      21827.90      False    A  151315        46.50   \n\n   Fuel_Price  MarkDown1  MarkDown2  MarkDown3  MarkDown4  MarkDown5  \\\n0       2.572        NaN        NaN        NaN        NaN        NaN   \n1       2.548        NaN        NaN        NaN        NaN        NaN   \n2       2.514        NaN        NaN        NaN        NaN        NaN   \n3       2.561        NaN        NaN        NaN        NaN        NaN   \n4       2.625        NaN        NaN        NaN        NaN        NaN   \n\n          CPI  Unemployment  \n0  211.096358         8.106  \n1  211.242170         8.106  \n2  211.289143         8.106  \n3  211.319643         8.106  \n4  211.350143         8.106  ",
      "text/html": "<div>\n<style scoped>\n    .dataframe tbody tr th:only-of-type {\n        vertical-align: middle;\n    }\n\n    .dataframe tbody tr th {\n        vertical-align: top;\n    }\n\n    .dataframe thead th {\n        text-align: right;\n    }\n</style>\n<table border=\"1\" class=\"dataframe\">\n  <thead>\n    <tr style=\"text-align: right;\">\n      <th></th>\n      <th>Store</th>\n      <th>Dept</th>\n      <th>Date</th>\n      <th>Weekly_Sales</th>\n      <th>IsHoliday</th>\n      <th>Type</th>\n      <th>Size</th>\n      <th>Temperature</th>\n      <th>Fuel_Price</th>\n      <th>MarkDown1</th>\n      <th>MarkDown2</th>\n      <th>MarkDown3</th>\n      <th>MarkDown4</th>\n      <th>MarkDown5</th>\n      <th>CPI</th>\n      <th>Unemployment</th>\n    </tr>\n  </thead>\n  <tbody>\n    <tr>\n      <th>0</th>\n      <td>1</td>\n      <td>1</td>\n      <td>2010-02-05</td>\n      <td>24924.50</td>\n      <td>False</td>\n      <td>A</td>\n      <td>151315</td>\n      <td>42.31</td>\n      <td>2.572</td>\n      <td>NaN</td>\n      <td>NaN</td>\n      <td>NaN</td>\n      <td>NaN</td>\n      <td>NaN</td>\n      <td>211.096358</td>\n      <td>8.106</td>\n    </tr>\n    <tr>\n      <th>1</th>\n      <td>1</td>\n      <td>1</td>\n      <td>2010-02-12</td>\n      <td>46039.49</td>\n      <td>True</td>\n      <td>A</td>\n      <td>151315</td>\n      <td>38.51</td>\n      <td>2.548</td>\n      <td>NaN</td>\n      <td>NaN</td>\n      <td>NaN</td>\n      <td>NaN</td>\n      <td>NaN</td>\n      <td>211.242170</td>\n      <td>8.106</td>\n    </tr>\n    <tr>\n      <th>2</th>\n      <td>1</td>\n      <td>1</td>\n      <td>2010-02-19</td>\n      <td>41595.55</td>\n      <td>False</td>\n      <td>A</td>\n      <td>151315</td>\n      <td>39.93</td>\n      <td>2.514</td>\n      <td>NaN</td>\n      <td>NaN</td>\n      <td>NaN</td>\n      <td>NaN</td>\n      <td>NaN</td>\n      <td>211.289143</td>\n      <td>8.106</td>\n    </tr>\n    <tr>\n      <th>3</th>\n      <td>1</td>\n      <td>1</td>\n      <td>2010-02-26</td>\n      <td>19403.54</td>\n      <td>False</td>\n      <td>A</td>\n      <td>151315</td>\n      <td>46.63</td>\n      <td>2.561</td>\n      <td>NaN</td>\n      <td>NaN</td>\n      <td>NaN</td>\n      <td>NaN</td>\n      <td>NaN</td>\n      <td>211.319643</td>\n      <td>8.106</td>\n    </tr>\n    <tr>\n      <th>4</th>\n      <td>1</td>\n      <td>1</td>\n      <td>2010-03-05</td>\n      <td>21827.90</td>\n      <td>False</td>\n      <td>A</td>\n      <td>151315</td>\n      <td>46.50</td>\n      <td>2.625</td>\n      <td>NaN</td>\n      <td>NaN</td>\n      <td>NaN</td>\n      <td>NaN</td>\n      <td>NaN</td>\n      <td>211.350143</td>\n      <td>8.106</td>\n    </tr>\n  </tbody>\n</table>\n</div>"
     },
     "metadata": {}
    }
   ],
   "execution_count": null
  },
  {
   "cell_type": "markdown",
   "source": "### EDA",
   "metadata": {
    "cell_id": "00005-72b096ca-1662-4a20-b8a8-182b331d6e87",
    "deepnote_cell_type": "markdown",
    "deepnote_cell_height": 62
   }
  },
  {
   "cell_type": "code",
   "metadata": {
    "cell_id": "00006-3dde6c17-7263-497c-83d9-75341918d591",
    "deepnote_to_be_reexecuted": false,
    "source_hash": "2f6954fb",
    "execution_start": 1650388113144,
    "execution_millis": 185,
    "deepnote_cell_type": "code",
    "deepnote_cell_height": 426,
    "deepnote_output_heights": [
     328.3125
    ]
   },
   "source": "merged_train.isnull().sum()",
   "outputs": [
    {
     "output_type": "execute_result",
     "execution_count": 5,
     "data": {
      "text/plain": "Store                0\nDept                 0\nDate                 0\nWeekly_Sales         0\nIsHoliday            0\nType                 0\nSize                 0\nTemperature          0\nFuel_Price           0\nMarkDown1       270889\nMarkDown2       310322\nMarkDown3       284479\nMarkDown4       286603\nMarkDown5       270138\nCPI                  0\nUnemployment         0\ndtype: int64"
     },
     "metadata": {}
    }
   ],
   "execution_count": null
  },
  {
   "cell_type": "code",
   "metadata": {
    "cell_id": "43a88e85b2d342e19f2a4479edf1c6cc",
    "tags": [],
    "deepnote_to_be_reexecuted": false,
    "source_hash": "c6c7e661",
    "execution_start": 1650388113334,
    "execution_millis": 30,
    "deepnote_cell_type": "code",
    "deepnote_cell_height": 347.34375,
    "deepnote_output_heights": [
     232.34375
    ]
   },
   "source": "merged_train['Dept'].value_counts()\n",
   "outputs": [
    {
     "output_type": "execute_result",
     "execution_count": 6,
     "data": {
      "text/plain": "1     6435\n13    6435\n2     6435\n46    6435\n67    6435\n      ... \n78     235\n77     150\n65     143\n39      16\n43      12\nName: Dept, Length: 81, dtype: int64"
     },
     "metadata": {}
    }
   ],
   "execution_count": null
  },
  {
   "cell_type": "code",
   "metadata": {
    "cell_id": "a87353f45ee24dea9aa5740cacb75f2c",
    "tags": [],
    "deepnote_to_be_reexecuted": false,
    "source_hash": "b4674381",
    "execution_start": 1650388113374,
    "execution_millis": 29,
    "deepnote_cell_type": "code",
    "deepnote_cell_height": 708,
    "deepnote_output_heights": [
     611
    ]
   },
   "source": "merged_train['Store'].value_counts()",
   "outputs": [
    {
     "output_type": "execute_result",
     "execution_count": 7,
     "data": {
      "text/plain": "13    10474\n10    10315\n4     10272\n1     10244\n2     10238\n24    10228\n27    10225\n34    10224\n20    10214\n6     10211\n32    10202\n19    10148\n31    10142\n28    10113\n41    10088\n11    10062\n23    10050\n14    10040\n40    10017\n15     9901\n8      9895\n39     9878\n17     9864\n18     9859\n26     9854\n25     9804\n7      9762\n12     9705\n22     9688\n45     9637\n21     9582\n35     9528\n29     9455\n16     9443\n3      9036\n5      8999\n9      8867\n38     7362\n37     7206\n44     7169\n30     7156\n42     6953\n43     6751\n33     6487\n36     6222\nName: Store, dtype: int64"
     },
     "metadata": {}
    }
   ],
   "execution_count": null
  },
  {
   "cell_type": "code",
   "metadata": {
    "cell_id": "00007-ccf908c8-f47e-4495-b82d-ea655da1ab28",
    "deepnote_to_be_reexecuted": false,
    "source_hash": "8c7b540f",
    "execution_start": 1650388113409,
    "execution_millis": 87,
    "deepnote_cell_type": "code",
    "deepnote_cell_height": 118.1875,
    "deepnote_output_heights": [
     21.1875
    ]
   },
   "source": "merged_train.shape",
   "outputs": [
    {
     "output_type": "execute_result",
     "execution_count": 8,
     "data": {
      "text/plain": "(421570, 16)"
     },
     "metadata": {}
    }
   ],
   "execution_count": null
  },
  {
   "cell_type": "code",
   "metadata": {
    "cell_id": "f1e740ba41cf42919a5f4037ec05093f",
    "tags": [],
    "deepnote_to_be_reexecuted": false,
    "source_hash": "3519fa5d",
    "execution_start": 1650388113495,
    "execution_millis": 46,
    "deepnote_cell_type": "code",
    "deepnote_cell_height": 136.1875,
    "deepnote_output_heights": [
     21.1875
    ]
   },
   "source": "merged_test = merged_test.drop(columns=['MarkDown1', 'MarkDown2','MarkDown3','MarkDown4','MarkDown5'])\nmerged_test.shape",
   "outputs": [
    {
     "output_type": "execute_result",
     "execution_count": 9,
     "data": {
      "text/plain": "(115064, 10)"
     },
     "metadata": {}
    }
   ],
   "execution_count": null
  },
  {
   "cell_type": "code",
   "metadata": {
    "cell_id": "00008-e2bd8772-822d-4b65-8cb0-05d14f9a0453",
    "deepnote_to_be_reexecuted": false,
    "source_hash": "962cb422",
    "execution_start": 1650388113540,
    "execution_millis": 199,
    "deepnote_cell_type": "code",
    "deepnote_cell_height": 136.1875,
    "deepnote_output_heights": [
     21.1875
    ]
   },
   "source": "merged_train = merged_train.drop(columns=['MarkDown1', 'MarkDown2','MarkDown3','MarkDown4','MarkDown5','Date'])\nmerged_train.shape",
   "outputs": [
    {
     "output_type": "execute_result",
     "execution_count": 10,
     "data": {
      "text/plain": "(421570, 10)"
     },
     "metadata": {}
    }
   ],
   "execution_count": null
  },
  {
   "cell_type": "code",
   "metadata": {
    "cell_id": "bbdc9185a2a74a82a07bee963035294c",
    "tags": [],
    "deepnote_to_be_reexecuted": false,
    "source_hash": "ac701292",
    "execution_start": 1650388113741,
    "execution_millis": 17,
    "deepnote_cell_type": "code",
    "deepnote_cell_height": 81
   },
   "source": "#merged_train.to_csv('Mtrain.csv')",
   "outputs": [],
   "execution_count": null
  },
  {
   "cell_type": "code",
   "metadata": {
    "cell_id": "67fb0b2a9ab04b4c86d8811564aa475f",
    "tags": [],
    "deepnote_to_be_reexecuted": false,
    "source_hash": "14e6c74b",
    "execution_start": 1650388113807,
    "execution_millis": 1,
    "deepnote_cell_type": "code",
    "deepnote_cell_height": 81
   },
   "source": "#merged_test.to_csv('Mtest.csv')",
   "outputs": [],
   "execution_count": null
  },
  {
   "cell_type": "code",
   "metadata": {
    "cell_id": "21bf622cec6f4d6ba67e164caf671760",
    "tags": [],
    "deepnote_to_be_reexecuted": false,
    "source_hash": "c2a93f1c",
    "execution_start": 1650388113808,
    "execution_millis": 55855,
    "deepnote_cell_type": "code",
    "deepnote_cell_height": 986.1875,
    "deepnote_output_heights": [
     611
    ]
   },
   "source": "fig, ax = plt.subplots(ncols = 2,nrows = 2, figsize=(15, 10))\nh1 = sns.scatterplot(data = merged_train, x = 'Unemployment', y='CPI', hue = 'Type', ax=ax[0,0])\nh1.set_title('CPI vs. Unemployment by Type')\n\ng2 = sns.scatterplot(data = merged_train, x = 'Fuel_Price', y='CPI', hue = 'Type', ax=ax[0,1])\ng2.set_title('CPI vs. Fuel price by Type')\n\ng3 = sns.scatterplot(data = merged_train, x = 'Temperature', y='CPI',hue = 'Type', ax=ax[1,0])\ng3.set_title('CPI vs. Temperature by Type')\n\ng4 = sns.barplot(data = merged_train, x = 'Store', y='CPI', ax=ax[1,1])\ng4.set_title('CPI by store')\nplt.show()",
   "outputs": [
    {
     "output_type": "error",
     "ename": "KeyboardInterrupt",
     "evalue": "",
     "traceback": [
      "\u001b[0;31m---------------------------------------------------------------------------\u001b[0m",
      "\u001b[0;31mKeyboardInterrupt\u001b[0m                         Traceback (most recent call last)",
      "\u001b[0;32m<ipython-input-13-4d3954ee6696>\u001b[0m in \u001b[0;36m<module>\u001b[0;34m\u001b[0m\n\u001b[1;32m     11\u001b[0m \u001b[0mg4\u001b[0m \u001b[0;34m=\u001b[0m \u001b[0msns\u001b[0m\u001b[0;34m.\u001b[0m\u001b[0mbarplot\u001b[0m\u001b[0;34m(\u001b[0m\u001b[0mdata\u001b[0m \u001b[0;34m=\u001b[0m \u001b[0mmerged_train\u001b[0m\u001b[0;34m,\u001b[0m \u001b[0mx\u001b[0m \u001b[0;34m=\u001b[0m \u001b[0;34m'Store'\u001b[0m\u001b[0;34m,\u001b[0m \u001b[0my\u001b[0m\u001b[0;34m=\u001b[0m\u001b[0;34m'CPI'\u001b[0m\u001b[0;34m,\u001b[0m \u001b[0max\u001b[0m\u001b[0;34m=\u001b[0m\u001b[0max\u001b[0m\u001b[0;34m[\u001b[0m\u001b[0;36m1\u001b[0m\u001b[0;34m,\u001b[0m\u001b[0;36m1\u001b[0m\u001b[0;34m]\u001b[0m\u001b[0;34m)\u001b[0m\u001b[0;34m\u001b[0m\u001b[0;34m\u001b[0m\u001b[0m\n\u001b[1;32m     12\u001b[0m \u001b[0mg4\u001b[0m\u001b[0;34m.\u001b[0m\u001b[0mset_title\u001b[0m\u001b[0;34m(\u001b[0m\u001b[0;34m'CPI by store'\u001b[0m\u001b[0;34m)\u001b[0m\u001b[0;34m\u001b[0m\u001b[0;34m\u001b[0m\u001b[0m\n\u001b[0;32m---> 13\u001b[0;31m \u001b[0mplt\u001b[0m\u001b[0;34m.\u001b[0m\u001b[0mshow\u001b[0m\u001b[0;34m(\u001b[0m\u001b[0;34m)\u001b[0m\u001b[0;34m\u001b[0m\u001b[0;34m\u001b[0m\u001b[0m\n\u001b[0m",
      "\u001b[0;32m/shared-libs/python3.7/py/lib/python3.7/site-packages/matplotlib/pyplot.py\u001b[0m in \u001b[0;36mshow\u001b[0;34m(*args, **kwargs)\u001b[0m\n\u001b[1;32m    366\u001b[0m     \"\"\"\n\u001b[1;32m    367\u001b[0m     \u001b[0m_warn_if_gui_out_of_main_thread\u001b[0m\u001b[0;34m(\u001b[0m\u001b[0;34m)\u001b[0m\u001b[0;34m\u001b[0m\u001b[0;34m\u001b[0m\u001b[0m\n\u001b[0;32m--> 368\u001b[0;31m     \u001b[0;32mreturn\u001b[0m \u001b[0m_backend_mod\u001b[0m\u001b[0;34m.\u001b[0m\u001b[0mshow\u001b[0m\u001b[0;34m(\u001b[0m\u001b[0;34m*\u001b[0m\u001b[0margs\u001b[0m\u001b[0;34m,\u001b[0m \u001b[0;34m**\u001b[0m\u001b[0mkwargs\u001b[0m\u001b[0;34m)\u001b[0m\u001b[0;34m\u001b[0m\u001b[0;34m\u001b[0m\u001b[0m\n\u001b[0m\u001b[1;32m    369\u001b[0m \u001b[0;34m\u001b[0m\u001b[0m\n\u001b[1;32m    370\u001b[0m \u001b[0;34m\u001b[0m\u001b[0m\n",
      "\u001b[0;32m/shared-libs/python3.7/py-core/lib/python3.7/site-packages/ipykernel/pylab/backend_inline.py\u001b[0m in \u001b[0;36mshow\u001b[0;34m(close, block)\u001b[0m\n\u001b[1;32m     40\u001b[0m             display(\n\u001b[1;32m     41\u001b[0m                 \u001b[0mfigure_manager\u001b[0m\u001b[0;34m.\u001b[0m\u001b[0mcanvas\u001b[0m\u001b[0;34m.\u001b[0m\u001b[0mfigure\u001b[0m\u001b[0;34m,\u001b[0m\u001b[0;34m\u001b[0m\u001b[0;34m\u001b[0m\u001b[0m\n\u001b[0;32m---> 42\u001b[0;31m                 \u001b[0mmetadata\u001b[0m\u001b[0;34m=\u001b[0m\u001b[0m_fetch_figure_metadata\u001b[0m\u001b[0;34m(\u001b[0m\u001b[0mfigure_manager\u001b[0m\u001b[0;34m.\u001b[0m\u001b[0mcanvas\u001b[0m\u001b[0;34m.\u001b[0m\u001b[0mfigure\u001b[0m\u001b[0;34m)\u001b[0m\u001b[0;34m\u001b[0m\u001b[0;34m\u001b[0m\u001b[0m\n\u001b[0m\u001b[1;32m     43\u001b[0m             )\n\u001b[1;32m     44\u001b[0m     \u001b[0;32mfinally\u001b[0m\u001b[0;34m:\u001b[0m\u001b[0;34m\u001b[0m\u001b[0;34m\u001b[0m\u001b[0m\n",
      "\u001b[0;32m/shared-libs/python3.7/py-core/lib/python3.7/site-packages/IPython/core/display.py\u001b[0m in \u001b[0;36mdisplay\u001b[0;34m(include, exclude, metadata, transient, display_id, *objs, **kwargs)\u001b[0m\n\u001b[1;32m    318\u001b[0m             \u001b[0mpublish_display_data\u001b[0m\u001b[0;34m(\u001b[0m\u001b[0mdata\u001b[0m\u001b[0;34m=\u001b[0m\u001b[0mobj\u001b[0m\u001b[0;34m,\u001b[0m \u001b[0mmetadata\u001b[0m\u001b[0;34m=\u001b[0m\u001b[0mmetadata\u001b[0m\u001b[0;34m,\u001b[0m \u001b[0;34m**\u001b[0m\u001b[0mkwargs\u001b[0m\u001b[0;34m)\u001b[0m\u001b[0;34m\u001b[0m\u001b[0;34m\u001b[0m\u001b[0m\n\u001b[1;32m    319\u001b[0m         \u001b[0;32melse\u001b[0m\u001b[0;34m:\u001b[0m\u001b[0;34m\u001b[0m\u001b[0;34m\u001b[0m\u001b[0m\n\u001b[0;32m--> 320\u001b[0;31m             \u001b[0mformat_dict\u001b[0m\u001b[0;34m,\u001b[0m \u001b[0mmd_dict\u001b[0m \u001b[0;34m=\u001b[0m \u001b[0mformat\u001b[0m\u001b[0;34m(\u001b[0m\u001b[0mobj\u001b[0m\u001b[0;34m,\u001b[0m \u001b[0minclude\u001b[0m\u001b[0;34m=\u001b[0m\u001b[0minclude\u001b[0m\u001b[0;34m,\u001b[0m \u001b[0mexclude\u001b[0m\u001b[0;34m=\u001b[0m\u001b[0mexclude\u001b[0m\u001b[0;34m)\u001b[0m\u001b[0;34m\u001b[0m\u001b[0;34m\u001b[0m\u001b[0m\n\u001b[0m\u001b[1;32m    321\u001b[0m             \u001b[0;32mif\u001b[0m \u001b[0;32mnot\u001b[0m \u001b[0mformat_dict\u001b[0m\u001b[0;34m:\u001b[0m\u001b[0;34m\u001b[0m\u001b[0;34m\u001b[0m\u001b[0m\n\u001b[1;32m    322\u001b[0m                 \u001b[0;31m# nothing to display (e.g. _ipython_display_ took over)\u001b[0m\u001b[0;34m\u001b[0m\u001b[0;34m\u001b[0m\u001b[0;34m\u001b[0m\u001b[0m\n",
      "\u001b[0;32m/shared-libs/python3.7/py-core/lib/python3.7/site-packages/IPython/core/formatters.py\u001b[0m in \u001b[0;36mformat\u001b[0;34m(self, obj, include, exclude)\u001b[0m\n\u001b[1;32m    178\u001b[0m             \u001b[0mmd\u001b[0m \u001b[0;34m=\u001b[0m \u001b[0;32mNone\u001b[0m\u001b[0;34m\u001b[0m\u001b[0;34m\u001b[0m\u001b[0m\n\u001b[1;32m    179\u001b[0m             \u001b[0;32mtry\u001b[0m\u001b[0;34m:\u001b[0m\u001b[0;34m\u001b[0m\u001b[0;34m\u001b[0m\u001b[0m\n\u001b[0;32m--> 180\u001b[0;31m                 \u001b[0mdata\u001b[0m \u001b[0;34m=\u001b[0m \u001b[0mformatter\u001b[0m\u001b[0;34m(\u001b[0m\u001b[0mobj\u001b[0m\u001b[0;34m)\u001b[0m\u001b[0;34m\u001b[0m\u001b[0;34m\u001b[0m\u001b[0m\n\u001b[0m\u001b[1;32m    181\u001b[0m             \u001b[0;32mexcept\u001b[0m\u001b[0;34m:\u001b[0m\u001b[0;34m\u001b[0m\u001b[0;34m\u001b[0m\u001b[0m\n\u001b[1;32m    182\u001b[0m                 \u001b[0;31m# FIXME: log the exception\u001b[0m\u001b[0;34m\u001b[0m\u001b[0;34m\u001b[0m\u001b[0;34m\u001b[0m\u001b[0m\n",
      "\u001b[0;32m/shared-libs/python3.7/py-core/lib/python3.7/site-packages/decorator.py\u001b[0m in \u001b[0;36mfun\u001b[0;34m(*args, **kw)\u001b[0m\n\u001b[1;32m    230\u001b[0m             \u001b[0;32mif\u001b[0m \u001b[0;32mnot\u001b[0m \u001b[0mkwsyntax\u001b[0m\u001b[0;34m:\u001b[0m\u001b[0;34m\u001b[0m\u001b[0;34m\u001b[0m\u001b[0m\n\u001b[1;32m    231\u001b[0m                 \u001b[0margs\u001b[0m\u001b[0;34m,\u001b[0m \u001b[0mkw\u001b[0m \u001b[0;34m=\u001b[0m \u001b[0mfix\u001b[0m\u001b[0;34m(\u001b[0m\u001b[0margs\u001b[0m\u001b[0;34m,\u001b[0m \u001b[0mkw\u001b[0m\u001b[0;34m,\u001b[0m \u001b[0msig\u001b[0m\u001b[0;34m)\u001b[0m\u001b[0;34m\u001b[0m\u001b[0;34m\u001b[0m\u001b[0m\n\u001b[0;32m--> 232\u001b[0;31m             \u001b[0;32mreturn\u001b[0m \u001b[0mcaller\u001b[0m\u001b[0;34m(\u001b[0m\u001b[0mfunc\u001b[0m\u001b[0;34m,\u001b[0m \u001b[0;34m*\u001b[0m\u001b[0;34m(\u001b[0m\u001b[0mextras\u001b[0m \u001b[0;34m+\u001b[0m \u001b[0margs\u001b[0m\u001b[0;34m)\u001b[0m\u001b[0;34m,\u001b[0m \u001b[0;34m**\u001b[0m\u001b[0mkw\u001b[0m\u001b[0;34m)\u001b[0m\u001b[0;34m\u001b[0m\u001b[0;34m\u001b[0m\u001b[0m\n\u001b[0m\u001b[1;32m    233\u001b[0m     \u001b[0mfun\u001b[0m\u001b[0;34m.\u001b[0m\u001b[0m__name__\u001b[0m \u001b[0;34m=\u001b[0m \u001b[0mfunc\u001b[0m\u001b[0;34m.\u001b[0m\u001b[0m__name__\u001b[0m\u001b[0;34m\u001b[0m\u001b[0;34m\u001b[0m\u001b[0m\n\u001b[1;32m    234\u001b[0m     \u001b[0mfun\u001b[0m\u001b[0;34m.\u001b[0m\u001b[0m__doc__\u001b[0m \u001b[0;34m=\u001b[0m \u001b[0mfunc\u001b[0m\u001b[0;34m.\u001b[0m\u001b[0m__doc__\u001b[0m\u001b[0;34m\u001b[0m\u001b[0;34m\u001b[0m\u001b[0m\n",
      "\u001b[0;32m/shared-libs/python3.7/py-core/lib/python3.7/site-packages/IPython/core/formatters.py\u001b[0m in \u001b[0;36mcatch_format_error\u001b[0;34m(method, self, *args, **kwargs)\u001b[0m\n\u001b[1;32m    222\u001b[0m     \u001b[0;34m\"\"\"show traceback on failed format call\"\"\"\u001b[0m\u001b[0;34m\u001b[0m\u001b[0;34m\u001b[0m\u001b[0m\n\u001b[1;32m    223\u001b[0m     \u001b[0;32mtry\u001b[0m\u001b[0;34m:\u001b[0m\u001b[0;34m\u001b[0m\u001b[0;34m\u001b[0m\u001b[0m\n\u001b[0;32m--> 224\u001b[0;31m         \u001b[0mr\u001b[0m \u001b[0;34m=\u001b[0m \u001b[0mmethod\u001b[0m\u001b[0;34m(\u001b[0m\u001b[0mself\u001b[0m\u001b[0;34m,\u001b[0m \u001b[0;34m*\u001b[0m\u001b[0margs\u001b[0m\u001b[0;34m,\u001b[0m \u001b[0;34m**\u001b[0m\u001b[0mkwargs\u001b[0m\u001b[0;34m)\u001b[0m\u001b[0;34m\u001b[0m\u001b[0;34m\u001b[0m\u001b[0m\n\u001b[0m\u001b[1;32m    225\u001b[0m     \u001b[0;32mexcept\u001b[0m \u001b[0mNotImplementedError\u001b[0m\u001b[0;34m:\u001b[0m\u001b[0;34m\u001b[0m\u001b[0;34m\u001b[0m\u001b[0m\n\u001b[1;32m    226\u001b[0m         \u001b[0;31m# don't warn on NotImplementedErrors\u001b[0m\u001b[0;34m\u001b[0m\u001b[0;34m\u001b[0m\u001b[0;34m\u001b[0m\u001b[0m\n",
      "\u001b[0;32m/shared-libs/python3.7/py-core/lib/python3.7/site-packages/IPython/core/formatters.py\u001b[0m in \u001b[0;36m__call__\u001b[0;34m(self, obj)\u001b[0m\n\u001b[1;32m    339\u001b[0m                 \u001b[0;32mpass\u001b[0m\u001b[0;34m\u001b[0m\u001b[0;34m\u001b[0m\u001b[0m\n\u001b[1;32m    340\u001b[0m             \u001b[0;32melse\u001b[0m\u001b[0;34m:\u001b[0m\u001b[0;34m\u001b[0m\u001b[0;34m\u001b[0m\u001b[0m\n\u001b[0;32m--> 341\u001b[0;31m                 \u001b[0;32mreturn\u001b[0m \u001b[0mprinter\u001b[0m\u001b[0;34m(\u001b[0m\u001b[0mobj\u001b[0m\u001b[0;34m)\u001b[0m\u001b[0;34m\u001b[0m\u001b[0;34m\u001b[0m\u001b[0m\n\u001b[0m\u001b[1;32m    342\u001b[0m             \u001b[0;31m# Finally look for special method names\u001b[0m\u001b[0;34m\u001b[0m\u001b[0;34m\u001b[0m\u001b[0;34m\u001b[0m\u001b[0m\n\u001b[1;32m    343\u001b[0m             \u001b[0mmethod\u001b[0m \u001b[0;34m=\u001b[0m \u001b[0mget_real_method\u001b[0m\u001b[0;34m(\u001b[0m\u001b[0mobj\u001b[0m\u001b[0;34m,\u001b[0m \u001b[0mself\u001b[0m\u001b[0;34m.\u001b[0m\u001b[0mprint_method\u001b[0m\u001b[0;34m)\u001b[0m\u001b[0;34m\u001b[0m\u001b[0;34m\u001b[0m\u001b[0m\n",
      "\u001b[0;32m/shared-libs/python3.7/py-core/lib/python3.7/site-packages/IPython/core/pylabtools.py\u001b[0m in \u001b[0;36mprint_figure\u001b[0;34m(fig, fmt, bbox_inches, base64, **kwargs)\u001b[0m\n\u001b[1;32m    149\u001b[0m         \u001b[0mFigureCanvasBase\u001b[0m\u001b[0;34m(\u001b[0m\u001b[0mfig\u001b[0m\u001b[0;34m)\u001b[0m\u001b[0;34m\u001b[0m\u001b[0;34m\u001b[0m\u001b[0m\n\u001b[1;32m    150\u001b[0m \u001b[0;34m\u001b[0m\u001b[0m\n\u001b[0;32m--> 151\u001b[0;31m     \u001b[0mfig\u001b[0m\u001b[0;34m.\u001b[0m\u001b[0mcanvas\u001b[0m\u001b[0;34m.\u001b[0m\u001b[0mprint_figure\u001b[0m\u001b[0;34m(\u001b[0m\u001b[0mbytes_io\u001b[0m\u001b[0;34m,\u001b[0m \u001b[0;34m**\u001b[0m\u001b[0mkw\u001b[0m\u001b[0;34m)\u001b[0m\u001b[0;34m\u001b[0m\u001b[0;34m\u001b[0m\u001b[0m\n\u001b[0m\u001b[1;32m    152\u001b[0m     \u001b[0mdata\u001b[0m \u001b[0;34m=\u001b[0m \u001b[0mbytes_io\u001b[0m\u001b[0;34m.\u001b[0m\u001b[0mgetvalue\u001b[0m\u001b[0;34m(\u001b[0m\u001b[0;34m)\u001b[0m\u001b[0;34m\u001b[0m\u001b[0;34m\u001b[0m\u001b[0m\n\u001b[1;32m    153\u001b[0m     \u001b[0;32mif\u001b[0m \u001b[0mfmt\u001b[0m \u001b[0;34m==\u001b[0m \u001b[0;34m'svg'\u001b[0m\u001b[0;34m:\u001b[0m\u001b[0;34m\u001b[0m\u001b[0;34m\u001b[0m\u001b[0m\n",
      "\u001b[0;32m/shared-libs/python3.7/py/lib/python3.7/site-packages/matplotlib/backend_bases.py\u001b[0m in \u001b[0;36mprint_figure\u001b[0;34m(self, filename, dpi, facecolor, edgecolor, orientation, format, bbox_inches, pad_inches, bbox_extra_artists, backend, **kwargs)\u001b[0m\n\u001b[1;32m   2323\u001b[0m                         \u001b[0morientation\u001b[0m\u001b[0;34m=\u001b[0m\u001b[0morientation\u001b[0m\u001b[0;34m,\u001b[0m\u001b[0;34m\u001b[0m\u001b[0;34m\u001b[0m\u001b[0m\n\u001b[1;32m   2324\u001b[0m                         \u001b[0mbbox_inches_restore\u001b[0m\u001b[0;34m=\u001b[0m\u001b[0m_bbox_inches_restore\u001b[0m\u001b[0;34m,\u001b[0m\u001b[0;34m\u001b[0m\u001b[0;34m\u001b[0m\u001b[0m\n\u001b[0;32m-> 2325\u001b[0;31m                         **kwargs)\n\u001b[0m\u001b[1;32m   2326\u001b[0m             \u001b[0;32mfinally\u001b[0m\u001b[0;34m:\u001b[0m\u001b[0;34m\u001b[0m\u001b[0;34m\u001b[0m\u001b[0m\n\u001b[1;32m   2327\u001b[0m                 \u001b[0;32mif\u001b[0m \u001b[0mbbox_inches\u001b[0m \u001b[0;32mand\u001b[0m \u001b[0mrestore_bbox\u001b[0m\u001b[0;34m:\u001b[0m\u001b[0;34m\u001b[0m\u001b[0;34m\u001b[0m\u001b[0m\n",
      "\u001b[0;32m/shared-libs/python3.7/py/lib/python3.7/site-packages/matplotlib/backend_bases.py\u001b[0m in \u001b[0;36mwrapper\u001b[0;34m(*args, **kwargs)\u001b[0m\n\u001b[1;32m   1646\u001b[0m             \u001b[0mkwargs\u001b[0m\u001b[0;34m.\u001b[0m\u001b[0mpop\u001b[0m\u001b[0;34m(\u001b[0m\u001b[0marg\u001b[0m\u001b[0;34m)\u001b[0m\u001b[0;34m\u001b[0m\u001b[0;34m\u001b[0m\u001b[0m\n\u001b[1;32m   1647\u001b[0m \u001b[0;34m\u001b[0m\u001b[0m\n\u001b[0;32m-> 1648\u001b[0;31m         \u001b[0;32mreturn\u001b[0m \u001b[0mfunc\u001b[0m\u001b[0;34m(\u001b[0m\u001b[0;34m*\u001b[0m\u001b[0margs\u001b[0m\u001b[0;34m,\u001b[0m \u001b[0;34m**\u001b[0m\u001b[0mkwargs\u001b[0m\u001b[0;34m)\u001b[0m\u001b[0;34m\u001b[0m\u001b[0;34m\u001b[0m\u001b[0m\n\u001b[0m\u001b[1;32m   1649\u001b[0m \u001b[0;34m\u001b[0m\u001b[0m\n\u001b[1;32m   1650\u001b[0m     \u001b[0;32mreturn\u001b[0m \u001b[0mwrapper\u001b[0m\u001b[0;34m\u001b[0m\u001b[0;34m\u001b[0m\u001b[0m\n",
      "\u001b[0;32m/shared-libs/python3.7/py/lib/python3.7/site-packages/matplotlib/_api/deprecation.py\u001b[0m in \u001b[0;36mwrapper\u001b[0;34m(*inner_args, **inner_kwargs)\u001b[0m\n\u001b[1;32m    410\u001b[0m                          \u001b[0;32melse\u001b[0m \u001b[0mdeprecation_addendum\u001b[0m\u001b[0;34m,\u001b[0m\u001b[0;34m\u001b[0m\u001b[0;34m\u001b[0m\u001b[0m\n\u001b[1;32m    411\u001b[0m                 **kwargs)\n\u001b[0;32m--> 412\u001b[0;31m         \u001b[0;32mreturn\u001b[0m \u001b[0mfunc\u001b[0m\u001b[0;34m(\u001b[0m\u001b[0;34m*\u001b[0m\u001b[0minner_args\u001b[0m\u001b[0;34m,\u001b[0m \u001b[0;34m**\u001b[0m\u001b[0minner_kwargs\u001b[0m\u001b[0;34m)\u001b[0m\u001b[0;34m\u001b[0m\u001b[0;34m\u001b[0m\u001b[0m\n\u001b[0m\u001b[1;32m    413\u001b[0m \u001b[0;34m\u001b[0m\u001b[0m\n\u001b[1;32m    414\u001b[0m     \u001b[0mDECORATORS\u001b[0m\u001b[0;34m[\u001b[0m\u001b[0mwrapper\u001b[0m\u001b[0;34m]\u001b[0m \u001b[0;34m=\u001b[0m \u001b[0mdecorator\u001b[0m\u001b[0;34m\u001b[0m\u001b[0;34m\u001b[0m\u001b[0m\n",
      "\u001b[0;32m/shared-libs/python3.7/py/lib/python3.7/site-packages/matplotlib/backends/backend_agg.py\u001b[0m in \u001b[0;36mprint_png\u001b[0;34m(self, filename_or_obj, metadata, pil_kwargs, *args)\u001b[0m\n\u001b[1;32m    538\u001b[0m             \u001b[0;34m*\u001b[0m\u001b[0mmetadata\u001b[0m\u001b[0;34m*\u001b[0m\u001b[0;34m,\u001b[0m \u001b[0mincluding\u001b[0m \u001b[0mthe\u001b[0m \u001b[0mdefault\u001b[0m \u001b[0;34m'Software'\u001b[0m \u001b[0mkey\u001b[0m\u001b[0;34m.\u001b[0m\u001b[0;34m\u001b[0m\u001b[0;34m\u001b[0m\u001b[0m\n\u001b[1;32m    539\u001b[0m         \"\"\"\n\u001b[0;32m--> 540\u001b[0;31m         \u001b[0mFigureCanvasAgg\u001b[0m\u001b[0;34m.\u001b[0m\u001b[0mdraw\u001b[0m\u001b[0;34m(\u001b[0m\u001b[0mself\u001b[0m\u001b[0;34m)\u001b[0m\u001b[0;34m\u001b[0m\u001b[0;34m\u001b[0m\u001b[0m\n\u001b[0m\u001b[1;32m    541\u001b[0m         mpl.image.imsave(\n\u001b[1;32m    542\u001b[0m             \u001b[0mfilename_or_obj\u001b[0m\u001b[0;34m,\u001b[0m \u001b[0mself\u001b[0m\u001b[0;34m.\u001b[0m\u001b[0mbuffer_rgba\u001b[0m\u001b[0;34m(\u001b[0m\u001b[0;34m)\u001b[0m\u001b[0;34m,\u001b[0m \u001b[0mformat\u001b[0m\u001b[0;34m=\u001b[0m\u001b[0;34m\"png\"\u001b[0m\u001b[0;34m,\u001b[0m \u001b[0morigin\u001b[0m\u001b[0;34m=\u001b[0m\u001b[0;34m\"upper\"\u001b[0m\u001b[0;34m,\u001b[0m\u001b[0;34m\u001b[0m\u001b[0;34m\u001b[0m\u001b[0m\n",
      "\u001b[0;32m/shared-libs/python3.7/py/lib/python3.7/site-packages/matplotlib/backends/backend_agg.py\u001b[0m in \u001b[0;36mdraw\u001b[0;34m(self)\u001b[0m\n\u001b[1;32m    434\u001b[0m              (self.toolbar._wait_cursor_for_draw_cm() if self.toolbar\n\u001b[1;32m    435\u001b[0m               else nullcontext()):\n\u001b[0;32m--> 436\u001b[0;31m             \u001b[0mself\u001b[0m\u001b[0;34m.\u001b[0m\u001b[0mfigure\u001b[0m\u001b[0;34m.\u001b[0m\u001b[0mdraw\u001b[0m\u001b[0;34m(\u001b[0m\u001b[0mself\u001b[0m\u001b[0;34m.\u001b[0m\u001b[0mrenderer\u001b[0m\u001b[0;34m)\u001b[0m\u001b[0;34m\u001b[0m\u001b[0;34m\u001b[0m\u001b[0m\n\u001b[0m\u001b[1;32m    437\u001b[0m             \u001b[0;31m# A GUI class may be need to update a window using this draw, so\u001b[0m\u001b[0;34m\u001b[0m\u001b[0;34m\u001b[0m\u001b[0;34m\u001b[0m\u001b[0m\n\u001b[1;32m    438\u001b[0m             \u001b[0;31m# don't forget to call the superclass.\u001b[0m\u001b[0;34m\u001b[0m\u001b[0;34m\u001b[0m\u001b[0;34m\u001b[0m\u001b[0m\n",
      "\u001b[0;32m/shared-libs/python3.7/py/lib/python3.7/site-packages/matplotlib/artist.py\u001b[0m in \u001b[0;36mdraw_wrapper\u001b[0;34m(artist, renderer, *args, **kwargs)\u001b[0m\n\u001b[1;32m     71\u001b[0m     \u001b[0;34m@\u001b[0m\u001b[0mwraps\u001b[0m\u001b[0;34m(\u001b[0m\u001b[0mdraw\u001b[0m\u001b[0;34m)\u001b[0m\u001b[0;34m\u001b[0m\u001b[0;34m\u001b[0m\u001b[0m\n\u001b[1;32m     72\u001b[0m     \u001b[0;32mdef\u001b[0m \u001b[0mdraw_wrapper\u001b[0m\u001b[0;34m(\u001b[0m\u001b[0martist\u001b[0m\u001b[0;34m,\u001b[0m \u001b[0mrenderer\u001b[0m\u001b[0;34m,\u001b[0m \u001b[0;34m*\u001b[0m\u001b[0margs\u001b[0m\u001b[0;34m,\u001b[0m \u001b[0;34m**\u001b[0m\u001b[0mkwargs\u001b[0m\u001b[0;34m)\u001b[0m\u001b[0;34m:\u001b[0m\u001b[0;34m\u001b[0m\u001b[0;34m\u001b[0m\u001b[0m\n\u001b[0;32m---> 73\u001b[0;31m         \u001b[0mresult\u001b[0m \u001b[0;34m=\u001b[0m \u001b[0mdraw\u001b[0m\u001b[0;34m(\u001b[0m\u001b[0martist\u001b[0m\u001b[0;34m,\u001b[0m \u001b[0mrenderer\u001b[0m\u001b[0;34m,\u001b[0m \u001b[0;34m*\u001b[0m\u001b[0margs\u001b[0m\u001b[0;34m,\u001b[0m \u001b[0;34m**\u001b[0m\u001b[0mkwargs\u001b[0m\u001b[0;34m)\u001b[0m\u001b[0;34m\u001b[0m\u001b[0;34m\u001b[0m\u001b[0m\n\u001b[0m\u001b[1;32m     74\u001b[0m         \u001b[0;32mif\u001b[0m \u001b[0mrenderer\u001b[0m\u001b[0;34m.\u001b[0m\u001b[0m_rasterizing\u001b[0m\u001b[0;34m:\u001b[0m\u001b[0;34m\u001b[0m\u001b[0;34m\u001b[0m\u001b[0m\n\u001b[1;32m     75\u001b[0m             \u001b[0mrenderer\u001b[0m\u001b[0;34m.\u001b[0m\u001b[0mstop_rasterizing\u001b[0m\u001b[0;34m(\u001b[0m\u001b[0;34m)\u001b[0m\u001b[0;34m\u001b[0m\u001b[0;34m\u001b[0m\u001b[0m\n",
      "\u001b[0;32m/shared-libs/python3.7/py/lib/python3.7/site-packages/matplotlib/artist.py\u001b[0m in \u001b[0;36mdraw_wrapper\u001b[0;34m(artist, renderer)\u001b[0m\n\u001b[1;32m     48\u001b[0m                 \u001b[0mrenderer\u001b[0m\u001b[0;34m.\u001b[0m\u001b[0mstart_filter\u001b[0m\u001b[0;34m(\u001b[0m\u001b[0;34m)\u001b[0m\u001b[0;34m\u001b[0m\u001b[0;34m\u001b[0m\u001b[0m\n\u001b[1;32m     49\u001b[0m \u001b[0;34m\u001b[0m\u001b[0m\n\u001b[0;32m---> 50\u001b[0;31m             \u001b[0;32mreturn\u001b[0m \u001b[0mdraw\u001b[0m\u001b[0;34m(\u001b[0m\u001b[0martist\u001b[0m\u001b[0;34m,\u001b[0m \u001b[0mrenderer\u001b[0m\u001b[0;34m)\u001b[0m\u001b[0;34m\u001b[0m\u001b[0;34m\u001b[0m\u001b[0m\n\u001b[0m\u001b[1;32m     51\u001b[0m         \u001b[0;32mfinally\u001b[0m\u001b[0;34m:\u001b[0m\u001b[0;34m\u001b[0m\u001b[0;34m\u001b[0m\u001b[0m\n\u001b[1;32m     52\u001b[0m             \u001b[0;32mif\u001b[0m \u001b[0martist\u001b[0m\u001b[0;34m.\u001b[0m\u001b[0mget_agg_filter\u001b[0m\u001b[0;34m(\u001b[0m\u001b[0;34m)\u001b[0m \u001b[0;32mis\u001b[0m \u001b[0;32mnot\u001b[0m \u001b[0;32mNone\u001b[0m\u001b[0;34m:\u001b[0m\u001b[0;34m\u001b[0m\u001b[0;34m\u001b[0m\u001b[0m\n",
      "\u001b[0;32m/shared-libs/python3.7/py/lib/python3.7/site-packages/matplotlib/figure.py\u001b[0m in \u001b[0;36mdraw\u001b[0;34m(self, renderer)\u001b[0m\n\u001b[1;32m   2809\u001b[0m             \u001b[0mself\u001b[0m\u001b[0;34m.\u001b[0m\u001b[0mpatch\u001b[0m\u001b[0;34m.\u001b[0m\u001b[0mdraw\u001b[0m\u001b[0;34m(\u001b[0m\u001b[0mrenderer\u001b[0m\u001b[0;34m)\u001b[0m\u001b[0;34m\u001b[0m\u001b[0;34m\u001b[0m\u001b[0m\n\u001b[1;32m   2810\u001b[0m             mimage._draw_list_compositing_images(\n\u001b[0;32m-> 2811\u001b[0;31m                 renderer, self, artists, self.suppressComposite)\n\u001b[0m\u001b[1;32m   2812\u001b[0m \u001b[0;34m\u001b[0m\u001b[0m\n\u001b[1;32m   2813\u001b[0m             \u001b[0;32mfor\u001b[0m \u001b[0msfig\u001b[0m \u001b[0;32min\u001b[0m \u001b[0mself\u001b[0m\u001b[0;34m.\u001b[0m\u001b[0msubfigs\u001b[0m\u001b[0;34m:\u001b[0m\u001b[0;34m\u001b[0m\u001b[0;34m\u001b[0m\u001b[0m\n",
      "\u001b[0;32m/shared-libs/python3.7/py/lib/python3.7/site-packages/matplotlib/image.py\u001b[0m in \u001b[0;36m_draw_list_compositing_images\u001b[0;34m(renderer, parent, artists, suppress_composite)\u001b[0m\n\u001b[1;32m    130\u001b[0m     \u001b[0;32mif\u001b[0m \u001b[0mnot_composite\u001b[0m \u001b[0;32mor\u001b[0m \u001b[0;32mnot\u001b[0m \u001b[0mhas_images\u001b[0m\u001b[0;34m:\u001b[0m\u001b[0;34m\u001b[0m\u001b[0;34m\u001b[0m\u001b[0m\n\u001b[1;32m    131\u001b[0m         \u001b[0;32mfor\u001b[0m \u001b[0ma\u001b[0m \u001b[0;32min\u001b[0m \u001b[0martists\u001b[0m\u001b[0;34m:\u001b[0m\u001b[0;34m\u001b[0m\u001b[0;34m\u001b[0m\u001b[0m\n\u001b[0;32m--> 132\u001b[0;31m             \u001b[0ma\u001b[0m\u001b[0;34m.\u001b[0m\u001b[0mdraw\u001b[0m\u001b[0;34m(\u001b[0m\u001b[0mrenderer\u001b[0m\u001b[0;34m)\u001b[0m\u001b[0;34m\u001b[0m\u001b[0;34m\u001b[0m\u001b[0m\n\u001b[0m\u001b[1;32m    133\u001b[0m     \u001b[0;32melse\u001b[0m\u001b[0;34m:\u001b[0m\u001b[0;34m\u001b[0m\u001b[0;34m\u001b[0m\u001b[0m\n\u001b[1;32m    134\u001b[0m         \u001b[0;31m# Composite any adjacent images together\u001b[0m\u001b[0;34m\u001b[0m\u001b[0;34m\u001b[0m\u001b[0;34m\u001b[0m\u001b[0m\n",
      "\u001b[0;32m/shared-libs/python3.7/py/lib/python3.7/site-packages/matplotlib/artist.py\u001b[0m in \u001b[0;36mdraw_wrapper\u001b[0;34m(artist, renderer)\u001b[0m\n\u001b[1;32m     48\u001b[0m                 \u001b[0mrenderer\u001b[0m\u001b[0;34m.\u001b[0m\u001b[0mstart_filter\u001b[0m\u001b[0;34m(\u001b[0m\u001b[0;34m)\u001b[0m\u001b[0;34m\u001b[0m\u001b[0;34m\u001b[0m\u001b[0m\n\u001b[1;32m     49\u001b[0m \u001b[0;34m\u001b[0m\u001b[0m\n\u001b[0;32m---> 50\u001b[0;31m             \u001b[0;32mreturn\u001b[0m \u001b[0mdraw\u001b[0m\u001b[0;34m(\u001b[0m\u001b[0martist\u001b[0m\u001b[0;34m,\u001b[0m \u001b[0mrenderer\u001b[0m\u001b[0;34m)\u001b[0m\u001b[0;34m\u001b[0m\u001b[0;34m\u001b[0m\u001b[0m\n\u001b[0m\u001b[1;32m     51\u001b[0m         \u001b[0;32mfinally\u001b[0m\u001b[0;34m:\u001b[0m\u001b[0;34m\u001b[0m\u001b[0;34m\u001b[0m\u001b[0m\n\u001b[1;32m     52\u001b[0m             \u001b[0;32mif\u001b[0m \u001b[0martist\u001b[0m\u001b[0;34m.\u001b[0m\u001b[0mget_agg_filter\u001b[0m\u001b[0;34m(\u001b[0m\u001b[0;34m)\u001b[0m \u001b[0;32mis\u001b[0m \u001b[0;32mnot\u001b[0m \u001b[0;32mNone\u001b[0m\u001b[0;34m:\u001b[0m\u001b[0;34m\u001b[0m\u001b[0;34m\u001b[0m\u001b[0m\n",
      "\u001b[0;32m/shared-libs/python3.7/py/lib/python3.7/site-packages/matplotlib/axes/_base.py\u001b[0m in \u001b[0;36mdraw\u001b[0;34m(self, renderer)\u001b[0m\n\u001b[1;32m   3081\u001b[0m \u001b[0;34m\u001b[0m\u001b[0m\n\u001b[1;32m   3082\u001b[0m         mimage._draw_list_compositing_images(\n\u001b[0;32m-> 3083\u001b[0;31m             renderer, self, artists, self.figure.suppressComposite)\n\u001b[0m\u001b[1;32m   3084\u001b[0m \u001b[0;34m\u001b[0m\u001b[0m\n\u001b[1;32m   3085\u001b[0m         \u001b[0mrenderer\u001b[0m\u001b[0;34m.\u001b[0m\u001b[0mclose_group\u001b[0m\u001b[0;34m(\u001b[0m\u001b[0;34m'axes'\u001b[0m\u001b[0;34m)\u001b[0m\u001b[0;34m\u001b[0m\u001b[0;34m\u001b[0m\u001b[0m\n",
      "\u001b[0;32m/shared-libs/python3.7/py/lib/python3.7/site-packages/matplotlib/image.py\u001b[0m in \u001b[0;36m_draw_list_compositing_images\u001b[0;34m(renderer, parent, artists, suppress_composite)\u001b[0m\n\u001b[1;32m    130\u001b[0m     \u001b[0;32mif\u001b[0m \u001b[0mnot_composite\u001b[0m \u001b[0;32mor\u001b[0m \u001b[0;32mnot\u001b[0m \u001b[0mhas_images\u001b[0m\u001b[0;34m:\u001b[0m\u001b[0;34m\u001b[0m\u001b[0;34m\u001b[0m\u001b[0m\n\u001b[1;32m    131\u001b[0m         \u001b[0;32mfor\u001b[0m \u001b[0ma\u001b[0m \u001b[0;32min\u001b[0m \u001b[0martists\u001b[0m\u001b[0;34m:\u001b[0m\u001b[0;34m\u001b[0m\u001b[0;34m\u001b[0m\u001b[0m\n\u001b[0;32m--> 132\u001b[0;31m             \u001b[0ma\u001b[0m\u001b[0;34m.\u001b[0m\u001b[0mdraw\u001b[0m\u001b[0;34m(\u001b[0m\u001b[0mrenderer\u001b[0m\u001b[0;34m)\u001b[0m\u001b[0;34m\u001b[0m\u001b[0;34m\u001b[0m\u001b[0m\n\u001b[0m\u001b[1;32m    133\u001b[0m     \u001b[0;32melse\u001b[0m\u001b[0;34m:\u001b[0m\u001b[0;34m\u001b[0m\u001b[0;34m\u001b[0m\u001b[0m\n\u001b[1;32m    134\u001b[0m         \u001b[0;31m# Composite any adjacent images together\u001b[0m\u001b[0;34m\u001b[0m\u001b[0;34m\u001b[0m\u001b[0;34m\u001b[0m\u001b[0m\n",
      "\u001b[0;32m/shared-libs/python3.7/py/lib/python3.7/site-packages/matplotlib/artist.py\u001b[0m in \u001b[0;36mdraw_wrapper\u001b[0;34m(artist, renderer)\u001b[0m\n\u001b[1;32m     48\u001b[0m                 \u001b[0mrenderer\u001b[0m\u001b[0;34m.\u001b[0m\u001b[0mstart_filter\u001b[0m\u001b[0;34m(\u001b[0m\u001b[0;34m)\u001b[0m\u001b[0;34m\u001b[0m\u001b[0;34m\u001b[0m\u001b[0m\n\u001b[1;32m     49\u001b[0m \u001b[0;34m\u001b[0m\u001b[0m\n\u001b[0;32m---> 50\u001b[0;31m             \u001b[0;32mreturn\u001b[0m \u001b[0mdraw\u001b[0m\u001b[0;34m(\u001b[0m\u001b[0martist\u001b[0m\u001b[0;34m,\u001b[0m \u001b[0mrenderer\u001b[0m\u001b[0;34m)\u001b[0m\u001b[0;34m\u001b[0m\u001b[0;34m\u001b[0m\u001b[0m\n\u001b[0m\u001b[1;32m     51\u001b[0m         \u001b[0;32mfinally\u001b[0m\u001b[0;34m:\u001b[0m\u001b[0;34m\u001b[0m\u001b[0;34m\u001b[0m\u001b[0m\n\u001b[1;32m     52\u001b[0m             \u001b[0;32mif\u001b[0m \u001b[0martist\u001b[0m\u001b[0;34m.\u001b[0m\u001b[0mget_agg_filter\u001b[0m\u001b[0;34m(\u001b[0m\u001b[0;34m)\u001b[0m \u001b[0;32mis\u001b[0m \u001b[0;32mnot\u001b[0m \u001b[0;32mNone\u001b[0m\u001b[0;34m:\u001b[0m\u001b[0;34m\u001b[0m\u001b[0;34m\u001b[0m\u001b[0m\n",
      "\u001b[0;32m/shared-libs/python3.7/py/lib/python3.7/site-packages/matplotlib/legend.py\u001b[0m in \u001b[0;36mdraw\u001b[0;34m(self, renderer)\u001b[0m\n\u001b[1;32m    618\u001b[0m         \u001b[0;31m# update the location and size of the legend. This needs to\u001b[0m\u001b[0;34m\u001b[0m\u001b[0;34m\u001b[0m\u001b[0;34m\u001b[0m\u001b[0m\n\u001b[1;32m    619\u001b[0m         \u001b[0;31m# be done in any case to clip the figure right.\u001b[0m\u001b[0;34m\u001b[0m\u001b[0;34m\u001b[0m\u001b[0;34m\u001b[0m\u001b[0m\n\u001b[0;32m--> 620\u001b[0;31m         \u001b[0mbbox\u001b[0m \u001b[0;34m=\u001b[0m \u001b[0mself\u001b[0m\u001b[0;34m.\u001b[0m\u001b[0m_legend_box\u001b[0m\u001b[0;34m.\u001b[0m\u001b[0mget_window_extent\u001b[0m\u001b[0;34m(\u001b[0m\u001b[0mrenderer\u001b[0m\u001b[0;34m)\u001b[0m\u001b[0;34m\u001b[0m\u001b[0;34m\u001b[0m\u001b[0m\n\u001b[0m\u001b[1;32m    621\u001b[0m         \u001b[0mself\u001b[0m\u001b[0;34m.\u001b[0m\u001b[0mlegendPatch\u001b[0m\u001b[0;34m.\u001b[0m\u001b[0mset_bounds\u001b[0m\u001b[0;34m(\u001b[0m\u001b[0mbbox\u001b[0m\u001b[0;34m.\u001b[0m\u001b[0mx0\u001b[0m\u001b[0;34m,\u001b[0m \u001b[0mbbox\u001b[0m\u001b[0;34m.\u001b[0m\u001b[0my0\u001b[0m\u001b[0;34m,\u001b[0m \u001b[0mbbox\u001b[0m\u001b[0;34m.\u001b[0m\u001b[0mwidth\u001b[0m\u001b[0;34m,\u001b[0m \u001b[0mbbox\u001b[0m\u001b[0;34m.\u001b[0m\u001b[0mheight\u001b[0m\u001b[0;34m)\u001b[0m\u001b[0;34m\u001b[0m\u001b[0;34m\u001b[0m\u001b[0m\n\u001b[1;32m    622\u001b[0m         \u001b[0mself\u001b[0m\u001b[0;34m.\u001b[0m\u001b[0mlegendPatch\u001b[0m\u001b[0;34m.\u001b[0m\u001b[0mset_mutation_scale\u001b[0m\u001b[0;34m(\u001b[0m\u001b[0mfontsize\u001b[0m\u001b[0;34m)\u001b[0m\u001b[0;34m\u001b[0m\u001b[0;34m\u001b[0m\u001b[0m\n",
      "\u001b[0;32m/shared-libs/python3.7/py/lib/python3.7/site-packages/matplotlib/offsetbox.py\u001b[0m in \u001b[0;36mget_window_extent\u001b[0;34m(self, renderer)\u001b[0m\n\u001b[1;32m    349\u001b[0m         \u001b[0;31m# docstring inherited\u001b[0m\u001b[0;34m\u001b[0m\u001b[0;34m\u001b[0m\u001b[0;34m\u001b[0m\u001b[0m\n\u001b[1;32m    350\u001b[0m         \u001b[0mw\u001b[0m\u001b[0;34m,\u001b[0m \u001b[0mh\u001b[0m\u001b[0;34m,\u001b[0m \u001b[0mxd\u001b[0m\u001b[0;34m,\u001b[0m \u001b[0myd\u001b[0m\u001b[0;34m,\u001b[0m \u001b[0moffsets\u001b[0m \u001b[0;34m=\u001b[0m \u001b[0mself\u001b[0m\u001b[0;34m.\u001b[0m\u001b[0mget_extent_offsets\u001b[0m\u001b[0;34m(\u001b[0m\u001b[0mrenderer\u001b[0m\u001b[0;34m)\u001b[0m\u001b[0;34m\u001b[0m\u001b[0;34m\u001b[0m\u001b[0m\n\u001b[0;32m--> 351\u001b[0;31m         \u001b[0mpx\u001b[0m\u001b[0;34m,\u001b[0m \u001b[0mpy\u001b[0m \u001b[0;34m=\u001b[0m \u001b[0mself\u001b[0m\u001b[0;34m.\u001b[0m\u001b[0mget_offset\u001b[0m\u001b[0;34m(\u001b[0m\u001b[0mw\u001b[0m\u001b[0;34m,\u001b[0m \u001b[0mh\u001b[0m\u001b[0;34m,\u001b[0m \u001b[0mxd\u001b[0m\u001b[0;34m,\u001b[0m \u001b[0myd\u001b[0m\u001b[0;34m,\u001b[0m \u001b[0mrenderer\u001b[0m\u001b[0;34m)\u001b[0m\u001b[0;34m\u001b[0m\u001b[0;34m\u001b[0m\u001b[0m\n\u001b[0m\u001b[1;32m    352\u001b[0m         \u001b[0;32mreturn\u001b[0m \u001b[0mmtransforms\u001b[0m\u001b[0;34m.\u001b[0m\u001b[0mBbox\u001b[0m\u001b[0;34m.\u001b[0m\u001b[0mfrom_bounds\u001b[0m\u001b[0;34m(\u001b[0m\u001b[0mpx\u001b[0m \u001b[0;34m-\u001b[0m \u001b[0mxd\u001b[0m\u001b[0;34m,\u001b[0m \u001b[0mpy\u001b[0m \u001b[0;34m-\u001b[0m \u001b[0myd\u001b[0m\u001b[0;34m,\u001b[0m \u001b[0mw\u001b[0m\u001b[0;34m,\u001b[0m \u001b[0mh\u001b[0m\u001b[0;34m)\u001b[0m\u001b[0;34m\u001b[0m\u001b[0;34m\u001b[0m\u001b[0m\n\u001b[1;32m    353\u001b[0m \u001b[0;34m\u001b[0m\u001b[0m\n",
      "\u001b[0;32m/shared-libs/python3.7/py/lib/python3.7/site-packages/matplotlib/offsetbox.py\u001b[0m in \u001b[0;36mget_offset\u001b[0;34m(self, width, height, xdescent, ydescent, renderer)\u001b[0m\n\u001b[1;32m    289\u001b[0m         \"\"\"\n\u001b[1;32m    290\u001b[0m         return (self._offset(width, height, xdescent, ydescent, renderer)\n\u001b[0;32m--> 291\u001b[0;31m                 \u001b[0;32mif\u001b[0m \u001b[0mcallable\u001b[0m\u001b[0;34m(\u001b[0m\u001b[0mself\u001b[0m\u001b[0;34m.\u001b[0m\u001b[0m_offset\u001b[0m\u001b[0;34m)\u001b[0m\u001b[0;34m\u001b[0m\u001b[0;34m\u001b[0m\u001b[0m\n\u001b[0m\u001b[1;32m    292\u001b[0m                 else self._offset)\n\u001b[1;32m    293\u001b[0m \u001b[0;34m\u001b[0m\u001b[0m\n",
      "\u001b[0;32m/shared-libs/python3.7/py/lib/python3.7/site-packages/matplotlib/legend.py\u001b[0m in \u001b[0;36m_findoffset\u001b[0;34m(self, width, height, xdescent, ydescent, renderer)\u001b[0m\n\u001b[1;32m    587\u001b[0m \u001b[0;34m\u001b[0m\u001b[0m\n\u001b[1;32m    588\u001b[0m         \u001b[0;32mif\u001b[0m \u001b[0mself\u001b[0m\u001b[0;34m.\u001b[0m\u001b[0m_loc\u001b[0m \u001b[0;34m==\u001b[0m \u001b[0;36m0\u001b[0m\u001b[0;34m:\u001b[0m  \u001b[0;31m# \"best\".\u001b[0m\u001b[0;34m\u001b[0m\u001b[0;34m\u001b[0m\u001b[0m\n\u001b[0;32m--> 589\u001b[0;31m             \u001b[0mx\u001b[0m\u001b[0;34m,\u001b[0m \u001b[0my\u001b[0m \u001b[0;34m=\u001b[0m \u001b[0mself\u001b[0m\u001b[0;34m.\u001b[0m\u001b[0m_find_best_position\u001b[0m\u001b[0;34m(\u001b[0m\u001b[0mwidth\u001b[0m\u001b[0;34m,\u001b[0m \u001b[0mheight\u001b[0m\u001b[0;34m,\u001b[0m \u001b[0mrenderer\u001b[0m\u001b[0;34m)\u001b[0m\u001b[0;34m\u001b[0m\u001b[0;34m\u001b[0m\u001b[0m\n\u001b[0m\u001b[1;32m    590\u001b[0m         \u001b[0;32melif\u001b[0m \u001b[0mself\u001b[0m\u001b[0;34m.\u001b[0m\u001b[0m_loc\u001b[0m \u001b[0;32min\u001b[0m \u001b[0mLegend\u001b[0m\u001b[0;34m.\u001b[0m\u001b[0mcodes\u001b[0m\u001b[0;34m.\u001b[0m\u001b[0mvalues\u001b[0m\u001b[0;34m(\u001b[0m\u001b[0;34m)\u001b[0m\u001b[0;34m:\u001b[0m  \u001b[0;31m# Fixed location.\u001b[0m\u001b[0;34m\u001b[0m\u001b[0;34m\u001b[0m\u001b[0m\n\u001b[1;32m    591\u001b[0m             \u001b[0mbbox\u001b[0m \u001b[0;34m=\u001b[0m \u001b[0mBbox\u001b[0m\u001b[0;34m.\u001b[0m\u001b[0mfrom_bounds\u001b[0m\u001b[0;34m(\u001b[0m\u001b[0;36m0\u001b[0m\u001b[0;34m,\u001b[0m \u001b[0;36m0\u001b[0m\u001b[0;34m,\u001b[0m \u001b[0mwidth\u001b[0m\u001b[0;34m,\u001b[0m \u001b[0mheight\u001b[0m\u001b[0;34m)\u001b[0m\u001b[0;34m\u001b[0m\u001b[0;34m\u001b[0m\u001b[0m\n",
      "\u001b[0;32m/shared-libs/python3.7/py/lib/python3.7/site-packages/matplotlib/legend.py\u001b[0m in \u001b[0;36m_find_best_position\u001b[0;34m(self, width, height, renderer, consider)\u001b[0m\n\u001b[1;32m   1032\u001b[0m                        \u001b[0;34m+\u001b[0m \u001b[0mlegendBox\u001b[0m\u001b[0;34m.\u001b[0m\u001b[0mcount_contains\u001b[0m\u001b[0;34m(\u001b[0m\u001b[0moffsets\u001b[0m\u001b[0;34m)\u001b[0m\u001b[0;34m\u001b[0m\u001b[0;34m\u001b[0m\u001b[0m\n\u001b[1;32m   1033\u001b[0m                        \u001b[0;34m+\u001b[0m \u001b[0mlegendBox\u001b[0m\u001b[0;34m.\u001b[0m\u001b[0mcount_overlaps\u001b[0m\u001b[0;34m(\u001b[0m\u001b[0mbboxes\u001b[0m\u001b[0;34m)\u001b[0m\u001b[0;34m\u001b[0m\u001b[0;34m\u001b[0m\u001b[0m\n\u001b[0;32m-> 1034\u001b[0;31m                        + sum(line.intersects_bbox(legendBox, filled=False)\n\u001b[0m\u001b[1;32m   1035\u001b[0m                              for line in lines))\n\u001b[1;32m   1036\u001b[0m             \u001b[0;32mif\u001b[0m \u001b[0mbadness\u001b[0m \u001b[0;34m==\u001b[0m \u001b[0;36m0\u001b[0m\u001b[0;34m:\u001b[0m\u001b[0;34m\u001b[0m\u001b[0;34m\u001b[0m\u001b[0m\n",
      "\u001b[0;32m/shared-libs/python3.7/py/lib/python3.7/site-packages/matplotlib/transforms.py\u001b[0m in \u001b[0;36mcount_contains\u001b[0;34m(self, vertices)\u001b[0m\n\u001b[1;32m    602\u001b[0m         \u001b[0;32mif\u001b[0m \u001b[0mlen\u001b[0m\u001b[0;34m(\u001b[0m\u001b[0mvertices\u001b[0m\u001b[0;34m)\u001b[0m \u001b[0;34m==\u001b[0m \u001b[0;36m0\u001b[0m\u001b[0;34m:\u001b[0m\u001b[0;34m\u001b[0m\u001b[0;34m\u001b[0m\u001b[0m\n\u001b[1;32m    603\u001b[0m             \u001b[0;32mreturn\u001b[0m \u001b[0;36m0\u001b[0m\u001b[0;34m\u001b[0m\u001b[0;34m\u001b[0m\u001b[0m\n\u001b[0;32m--> 604\u001b[0;31m         \u001b[0mvertices\u001b[0m \u001b[0;34m=\u001b[0m \u001b[0mnp\u001b[0m\u001b[0;34m.\u001b[0m\u001b[0masarray\u001b[0m\u001b[0;34m(\u001b[0m\u001b[0mvertices\u001b[0m\u001b[0;34m)\u001b[0m\u001b[0;34m\u001b[0m\u001b[0;34m\u001b[0m\u001b[0m\n\u001b[0m\u001b[1;32m    605\u001b[0m         \u001b[0;32mwith\u001b[0m \u001b[0mnp\u001b[0m\u001b[0;34m.\u001b[0m\u001b[0merrstate\u001b[0m\u001b[0;34m(\u001b[0m\u001b[0minvalid\u001b[0m\u001b[0;34m=\u001b[0m\u001b[0;34m'ignore'\u001b[0m\u001b[0;34m)\u001b[0m\u001b[0;34m:\u001b[0m\u001b[0;34m\u001b[0m\u001b[0;34m\u001b[0m\u001b[0m\n\u001b[1;32m    606\u001b[0m             return (((self.min < vertices) &\n",
      "\u001b[0;31mKeyboardInterrupt\u001b[0m: "
     ]
    }
   ],
   "execution_count": null
  },
  {
   "cell_type": "code",
   "metadata": {
    "cell_id": "00009-ea5fdf5f-f9af-4e01-9e9d-8399fc0bb346",
    "deepnote_to_be_reexecuted": true,
    "source_hash": "7debfa3e",
    "execution_start": 1650187306301,
    "execution_millis": 24,
    "deepnote_cell_type": "code",
    "deepnote_cell_height": 198.1875
   },
   "source": "f, ax = plt.subplots(figsize=(25,20))\ncmap = sns.diverging_palette(220, 20, as_cmap=True)\nsns.heatmap(merged_train.corr(), cmap=cmap, vmax=.3, center=0, annot=True,square=True, linewidths=.5, cbar_kws={'shrink': .5})\nplt.show()",
   "execution_count": null,
   "outputs": [
    {
     "output_type": "error",
     "ename": "NameError",
     "evalue": "name 'plt' is not defined",
     "traceback": [
      "\u001b[0;31m---------------------------------------------------------------------------\u001b[0m",
      "\u001b[0;31mNameError\u001b[0m                                 Traceback (most recent call last)",
      "\u001b[0;32m<ipython-input-3-ee9a2ccdf012>\u001b[0m in \u001b[0;36m<module>\u001b[0;34m\u001b[0m\n\u001b[0;32m----> 1\u001b[0;31m \u001b[0mf\u001b[0m\u001b[0;34m,\u001b[0m \u001b[0max\u001b[0m \u001b[0;34m=\u001b[0m \u001b[0mplt\u001b[0m\u001b[0;34m.\u001b[0m\u001b[0msubplots\u001b[0m\u001b[0;34m(\u001b[0m\u001b[0mfigsize\u001b[0m\u001b[0;34m=\u001b[0m\u001b[0;34m(\u001b[0m\u001b[0;36m25\u001b[0m\u001b[0;34m,\u001b[0m\u001b[0;36m20\u001b[0m\u001b[0;34m)\u001b[0m\u001b[0;34m)\u001b[0m\u001b[0;34m\u001b[0m\u001b[0;34m\u001b[0m\u001b[0m\n\u001b[0m\u001b[1;32m      2\u001b[0m \u001b[0mcmap\u001b[0m \u001b[0;34m=\u001b[0m \u001b[0msns\u001b[0m\u001b[0;34m.\u001b[0m\u001b[0mdiverging_palette\u001b[0m\u001b[0;34m(\u001b[0m\u001b[0;36m220\u001b[0m\u001b[0;34m,\u001b[0m \u001b[0;36m20\u001b[0m\u001b[0;34m,\u001b[0m \u001b[0mas_cmap\u001b[0m\u001b[0;34m=\u001b[0m\u001b[0;32mTrue\u001b[0m\u001b[0;34m)\u001b[0m\u001b[0;34m\u001b[0m\u001b[0;34m\u001b[0m\u001b[0m\n\u001b[1;32m      3\u001b[0m \u001b[0msns\u001b[0m\u001b[0;34m.\u001b[0m\u001b[0mheatmap\u001b[0m\u001b[0;34m(\u001b[0m\u001b[0mmerged_train\u001b[0m\u001b[0;34m.\u001b[0m\u001b[0mcorr\u001b[0m\u001b[0;34m(\u001b[0m\u001b[0;34m)\u001b[0m\u001b[0;34m,\u001b[0m \u001b[0mcmap\u001b[0m\u001b[0;34m=\u001b[0m\u001b[0mcmap\u001b[0m\u001b[0;34m,\u001b[0m \u001b[0mvmax\u001b[0m\u001b[0;34m=\u001b[0m\u001b[0;36m.3\u001b[0m\u001b[0;34m,\u001b[0m \u001b[0mcenter\u001b[0m\u001b[0;34m=\u001b[0m\u001b[0;36m0\u001b[0m\u001b[0;34m,\u001b[0m \u001b[0mannot\u001b[0m\u001b[0;34m=\u001b[0m\u001b[0;32mTrue\u001b[0m\u001b[0;34m,\u001b[0m\u001b[0msquare\u001b[0m\u001b[0;34m=\u001b[0m\u001b[0;32mTrue\u001b[0m\u001b[0;34m,\u001b[0m \u001b[0mlinewidths\u001b[0m\u001b[0;34m=\u001b[0m\u001b[0;36m.5\u001b[0m\u001b[0;34m,\u001b[0m \u001b[0mcbar_kws\u001b[0m\u001b[0;34m=\u001b[0m\u001b[0;34m{\u001b[0m\u001b[0;34m'shrink'\u001b[0m\u001b[0;34m:\u001b[0m \u001b[0;36m.5\u001b[0m\u001b[0;34m}\u001b[0m\u001b[0;34m)\u001b[0m\u001b[0;34m\u001b[0m\u001b[0;34m\u001b[0m\u001b[0m\n\u001b[1;32m      4\u001b[0m \u001b[0mplt\u001b[0m\u001b[0;34m.\u001b[0m\u001b[0mshow\u001b[0m\u001b[0;34m(\u001b[0m\u001b[0;34m)\u001b[0m\u001b[0;34m\u001b[0m\u001b[0;34m\u001b[0m\u001b[0m\n",
      "\u001b[0;31mNameError\u001b[0m: name 'plt' is not defined"
     ]
    }
   ]
  },
  {
   "cell_type": "code",
   "metadata": {
    "cell_id": "00010-9e2b7c7e-90c3-4629-a0e3-63c51d2eb6ff",
    "deepnote_to_be_reexecuted": true,
    "source_hash": "8e616170",
    "execution_start": 1650178828715,
    "execution_millis": 464,
    "deepnote_cell_type": "code",
    "deepnote_cell_height": 615
   },
   "source": "merged_train",
   "execution_count": null,
   "outputs": [
    {
     "output_type": "execute_result",
     "execution_count": 12,
     "data": {
      "application/vnd.deepnote.dataframe.v3+json": {
       "column_count": 11,
       "row_count": 421570,
       "columns": [
        {
         "name": "Store",
         "dtype": "int64"
        },
        {
         "name": "Dept",
         "dtype": "int64"
        },
        {
         "name": "Date",
         "dtype": "object"
        },
        {
         "name": "Weekly_Sales",
         "dtype": "float64"
        },
        {
         "name": "IsHoliday",
         "dtype": "bool"
        },
        {
         "name": "Type",
         "dtype": "object"
        },
        {
         "name": "Size",
         "dtype": "int64"
        },
        {
         "name": "Temperature",
         "dtype": "float64"
        },
        {
         "name": "Fuel_Price",
         "dtype": "float64"
        },
        {
         "name": "CPI",
         "dtype": "float64"
        },
        {
         "name": "Unemployment",
         "dtype": "float64"
        },
        {
         "name": "_deepnote_index_column",
         "dtype": "int64"
        }
       ],
       "rows": [
        {
         "Store": 1,
         "Dept": 1,
         "Date": "2010-02-05",
         "Weekly_Sales": 24924.5,
         "IsHoliday": false,
         "Type": "A",
         "Size": 151315,
         "Temperature": 42.31,
         "Fuel_Price": 2.572,
         "CPI": 211.0963582,
         "Unemployment": 8.106,
         "_deepnote_index_column": 0
        },
        {
         "Store": 1,
         "Dept": 1,
         "Date": "2010-02-12",
         "Weekly_Sales": 46039.49,
         "IsHoliday": true,
         "Type": "A",
         "Size": 151315,
         "Temperature": 38.51,
         "Fuel_Price": 2.548,
         "CPI": 211.2421698,
         "Unemployment": 8.106,
         "_deepnote_index_column": 1
        },
        {
         "Store": 1,
         "Dept": 1,
         "Date": "2010-02-19",
         "Weekly_Sales": 41595.55,
         "IsHoliday": false,
         "Type": "A",
         "Size": 151315,
         "Temperature": 39.93,
         "Fuel_Price": 2.514,
         "CPI": 211.2891429,
         "Unemployment": 8.106,
         "_deepnote_index_column": 2
        },
        {
         "Store": 1,
         "Dept": 1,
         "Date": "2010-02-26",
         "Weekly_Sales": 19403.54,
         "IsHoliday": false,
         "Type": "A",
         "Size": 151315,
         "Temperature": 46.63,
         "Fuel_Price": 2.561,
         "CPI": 211.3196429,
         "Unemployment": 8.106,
         "_deepnote_index_column": 3
        },
        {
         "Store": 1,
         "Dept": 1,
         "Date": "2010-03-05",
         "Weekly_Sales": 21827.9,
         "IsHoliday": false,
         "Type": "A",
         "Size": 151315,
         "Temperature": 46.5,
         "Fuel_Price": 2.625,
         "CPI": 211.3501429,
         "Unemployment": 8.106,
         "_deepnote_index_column": 4
        },
        {
         "Store": 1,
         "Dept": 1,
         "Date": "2010-03-12",
         "Weekly_Sales": 21043.39,
         "IsHoliday": false,
         "Type": "A",
         "Size": 151315,
         "Temperature": 57.79,
         "Fuel_Price": 2.667,
         "CPI": 211.3806429,
         "Unemployment": 8.106,
         "_deepnote_index_column": 5
        },
        {
         "Store": 1,
         "Dept": 1,
         "Date": "2010-03-19",
         "Weekly_Sales": 22136.64,
         "IsHoliday": false,
         "Type": "A",
         "Size": 151315,
         "Temperature": 54.58,
         "Fuel_Price": 2.72,
         "CPI": 211.215635,
         "Unemployment": 8.106,
         "_deepnote_index_column": 6
        },
        {
         "Store": 1,
         "Dept": 1,
         "Date": "2010-03-26",
         "Weekly_Sales": 26229.21,
         "IsHoliday": false,
         "Type": "A",
         "Size": 151315,
         "Temperature": 51.45,
         "Fuel_Price": 2.732,
         "CPI": 211.0180424,
         "Unemployment": 8.106,
         "_deepnote_index_column": 7
        },
        {
         "Store": 1,
         "Dept": 1,
         "Date": "2010-04-02",
         "Weekly_Sales": 57258.43,
         "IsHoliday": false,
         "Type": "A",
         "Size": 151315,
         "Temperature": 62.27,
         "Fuel_Price": 2.719,
         "CPI": 210.8204499,
         "Unemployment": 7.808,
         "_deepnote_index_column": 8
        },
        {
         "Store": 1,
         "Dept": 1,
         "Date": "2010-04-09",
         "Weekly_Sales": 42960.91,
         "IsHoliday": false,
         "Type": "A",
         "Size": 151315,
         "Temperature": 65.86,
         "Fuel_Price": 2.77,
         "CPI": 210.6228574,
         "Unemployment": 7.808,
         "_deepnote_index_column": 9
        }
       ]
      },
      "text/plain": "        Store  Dept        Date  Weekly_Sales  IsHoliday Type    Size  \\\n0           1     1  2010-02-05      24924.50      False    A  151315   \n1           1     1  2010-02-12      46039.49       True    A  151315   \n2           1     1  2010-02-19      41595.55      False    A  151315   \n3           1     1  2010-02-26      19403.54      False    A  151315   \n4           1     1  2010-03-05      21827.90      False    A  151315   \n...       ...   ...         ...           ...        ...  ...     ...   \n421565     45    98  2012-09-28        508.37      False    B  118221   \n421566     45    98  2012-10-05        628.10      False    B  118221   \n421567     45    98  2012-10-12       1061.02      False    B  118221   \n421568     45    98  2012-10-19        760.01      False    B  118221   \n421569     45    98  2012-10-26       1076.80      False    B  118221   \n\n        Temperature  Fuel_Price         CPI  Unemployment  \n0             42.31       2.572  211.096358         8.106  \n1             38.51       2.548  211.242170         8.106  \n2             39.93       2.514  211.289143         8.106  \n3             46.63       2.561  211.319643         8.106  \n4             46.50       2.625  211.350143         8.106  \n...             ...         ...         ...           ...  \n421565        64.88       3.997  192.013558         8.684  \n421566        64.89       3.985  192.170412         8.667  \n421567        54.47       4.000  192.327265         8.667  \n421568        56.47       3.969  192.330854         8.667  \n421569        58.85       3.882  192.308899         8.667  \n\n[421570 rows x 11 columns]",
      "text/html": "<div>\n<style scoped>\n    .dataframe tbody tr th:only-of-type {\n        vertical-align: middle;\n    }\n\n    .dataframe tbody tr th {\n        vertical-align: top;\n    }\n\n    .dataframe thead th {\n        text-align: right;\n    }\n</style>\n<table border=\"1\" class=\"dataframe\">\n  <thead>\n    <tr style=\"text-align: right;\">\n      <th></th>\n      <th>Store</th>\n      <th>Dept</th>\n      <th>Date</th>\n      <th>Weekly_Sales</th>\n      <th>IsHoliday</th>\n      <th>Type</th>\n      <th>Size</th>\n      <th>Temperature</th>\n      <th>Fuel_Price</th>\n      <th>CPI</th>\n      <th>Unemployment</th>\n    </tr>\n  </thead>\n  <tbody>\n    <tr>\n      <th>0</th>\n      <td>1</td>\n      <td>1</td>\n      <td>2010-02-05</td>\n      <td>24924.50</td>\n      <td>False</td>\n      <td>A</td>\n      <td>151315</td>\n      <td>42.31</td>\n      <td>2.572</td>\n      <td>211.096358</td>\n      <td>8.106</td>\n    </tr>\n    <tr>\n      <th>1</th>\n      <td>1</td>\n      <td>1</td>\n      <td>2010-02-12</td>\n      <td>46039.49</td>\n      <td>True</td>\n      <td>A</td>\n      <td>151315</td>\n      <td>38.51</td>\n      <td>2.548</td>\n      <td>211.242170</td>\n      <td>8.106</td>\n    </tr>\n    <tr>\n      <th>2</th>\n      <td>1</td>\n      <td>1</td>\n      <td>2010-02-19</td>\n      <td>41595.55</td>\n      <td>False</td>\n      <td>A</td>\n      <td>151315</td>\n      <td>39.93</td>\n      <td>2.514</td>\n      <td>211.289143</td>\n      <td>8.106</td>\n    </tr>\n    <tr>\n      <th>3</th>\n      <td>1</td>\n      <td>1</td>\n      <td>2010-02-26</td>\n      <td>19403.54</td>\n      <td>False</td>\n      <td>A</td>\n      <td>151315</td>\n      <td>46.63</td>\n      <td>2.561</td>\n      <td>211.319643</td>\n      <td>8.106</td>\n    </tr>\n    <tr>\n      <th>4</th>\n      <td>1</td>\n      <td>1</td>\n      <td>2010-03-05</td>\n      <td>21827.90</td>\n      <td>False</td>\n      <td>A</td>\n      <td>151315</td>\n      <td>46.50</td>\n      <td>2.625</td>\n      <td>211.350143</td>\n      <td>8.106</td>\n    </tr>\n    <tr>\n      <th>...</th>\n      <td>...</td>\n      <td>...</td>\n      <td>...</td>\n      <td>...</td>\n      <td>...</td>\n      <td>...</td>\n      <td>...</td>\n      <td>...</td>\n      <td>...</td>\n      <td>...</td>\n      <td>...</td>\n    </tr>\n    <tr>\n      <th>421565</th>\n      <td>45</td>\n      <td>98</td>\n      <td>2012-09-28</td>\n      <td>508.37</td>\n      <td>False</td>\n      <td>B</td>\n      <td>118221</td>\n      <td>64.88</td>\n      <td>3.997</td>\n      <td>192.013558</td>\n      <td>8.684</td>\n    </tr>\n    <tr>\n      <th>421566</th>\n      <td>45</td>\n      <td>98</td>\n      <td>2012-10-05</td>\n      <td>628.10</td>\n      <td>False</td>\n      <td>B</td>\n      <td>118221</td>\n      <td>64.89</td>\n      <td>3.985</td>\n      <td>192.170412</td>\n      <td>8.667</td>\n    </tr>\n    <tr>\n      <th>421567</th>\n      <td>45</td>\n      <td>98</td>\n      <td>2012-10-12</td>\n      <td>1061.02</td>\n      <td>False</td>\n      <td>B</td>\n      <td>118221</td>\n      <td>54.47</td>\n      <td>4.000</td>\n      <td>192.327265</td>\n      <td>8.667</td>\n    </tr>\n    <tr>\n      <th>421568</th>\n      <td>45</td>\n      <td>98</td>\n      <td>2012-10-19</td>\n      <td>760.01</td>\n      <td>False</td>\n      <td>B</td>\n      <td>118221</td>\n      <td>56.47</td>\n      <td>3.969</td>\n      <td>192.330854</td>\n      <td>8.667</td>\n    </tr>\n    <tr>\n      <th>421569</th>\n      <td>45</td>\n      <td>98</td>\n      <td>2012-10-26</td>\n      <td>1076.80</td>\n      <td>False</td>\n      <td>B</td>\n      <td>118221</td>\n      <td>58.85</td>\n      <td>3.882</td>\n      <td>192.308899</td>\n      <td>8.667</td>\n    </tr>\n  </tbody>\n</table>\n<p>421570 rows × 11 columns</p>\n</div>"
     },
     "metadata": {}
    }
   ]
  },
  {
   "cell_type": "code",
   "metadata": {
    "cell_id": "00011-009bccdb-4ebd-4fd9-9c29-dd3334ec7f1c",
    "deepnote_to_be_reexecuted": true,
    "source_hash": "952768c2",
    "execution_start": 1650178828851,
    "execution_millis": 332,
    "deepnote_cell_type": "code",
    "deepnote_cell_height": 413
   },
   "source": "merged_train1 = merged_train.drop(columns=['Store','Dept','Date','Type','IsHoliday'])\nmerged_train1.head()",
   "execution_count": null,
   "outputs": [
    {
     "output_type": "execute_result",
     "execution_count": 13,
     "data": {
      "application/vnd.deepnote.dataframe.v3+json": {
       "column_count": 6,
       "row_count": 5,
       "columns": [
        {
         "name": "Weekly_Sales",
         "dtype": "float64",
         "stats": {
          "unique_count": 5,
          "nan_count": 0,
          "min": "19403.54",
          "max": "46039.49",
          "histogram": [
           {
            "bin_start": 19403.54,
            "bin_end": 22067.135000000002,
            "count": 2
           },
           {
            "bin_start": 22067.135000000002,
            "bin_end": 24730.73,
            "count": 0
           },
           {
            "bin_start": 24730.73,
            "bin_end": 27394.325,
            "count": 1
           },
           {
            "bin_start": 27394.325,
            "bin_end": 30057.92,
            "count": 0
           },
           {
            "bin_start": 30057.92,
            "bin_end": 32721.515,
            "count": 0
           },
           {
            "bin_start": 32721.515,
            "bin_end": 35385.11,
            "count": 0
           },
           {
            "bin_start": 35385.11,
            "bin_end": 38048.705,
            "count": 0
           },
           {
            "bin_start": 38048.705,
            "bin_end": 40712.3,
            "count": 0
           },
           {
            "bin_start": 40712.3,
            "bin_end": 43375.895000000004,
            "count": 1
           },
           {
            "bin_start": 43375.895000000004,
            "bin_end": 46039.49,
            "count": 1
           }
          ]
         }
        },
        {
         "name": "Size",
         "dtype": "int64",
         "stats": {
          "unique_count": 1,
          "nan_count": 0,
          "min": "151315",
          "max": "151315",
          "histogram": [
           {
            "bin_start": 151314.5,
            "bin_end": 151314.6,
            "count": 0
           },
           {
            "bin_start": 151314.6,
            "bin_end": 151314.7,
            "count": 0
           },
           {
            "bin_start": 151314.7,
            "bin_end": 151314.8,
            "count": 0
           },
           {
            "bin_start": 151314.8,
            "bin_end": 151314.9,
            "count": 0
           },
           {
            "bin_start": 151314.9,
            "bin_end": 151315,
            "count": 0
           },
           {
            "bin_start": 151315,
            "bin_end": 151315.1,
            "count": 5
           },
           {
            "bin_start": 151315.1,
            "bin_end": 151315.2,
            "count": 0
           },
           {
            "bin_start": 151315.2,
            "bin_end": 151315.3,
            "count": 0
           },
           {
            "bin_start": 151315.3,
            "bin_end": 151315.4,
            "count": 0
           },
           {
            "bin_start": 151315.4,
            "bin_end": 151315.5,
            "count": 0
           }
          ]
         }
        },
        {
         "name": "Temperature",
         "dtype": "float64",
         "stats": {
          "unique_count": 5,
          "nan_count": 0,
          "min": "38.51",
          "max": "46.63",
          "histogram": [
           {
            "bin_start": 38.51,
            "bin_end": 39.321999999999996,
            "count": 1
           },
           {
            "bin_start": 39.321999999999996,
            "bin_end": 40.134,
            "count": 1
           },
           {
            "bin_start": 40.134,
            "bin_end": 40.946,
            "count": 0
           },
           {
            "bin_start": 40.946,
            "bin_end": 41.758,
            "count": 0
           },
           {
            "bin_start": 41.758,
            "bin_end": 42.57,
            "count": 1
           },
           {
            "bin_start": 42.57,
            "bin_end": 43.382000000000005,
            "count": 0
           },
           {
            "bin_start": 43.382000000000005,
            "bin_end": 44.194,
            "count": 0
           },
           {
            "bin_start": 44.194,
            "bin_end": 45.006,
            "count": 0
           },
           {
            "bin_start": 45.006,
            "bin_end": 45.818000000000005,
            "count": 0
           },
           {
            "bin_start": 45.818000000000005,
            "bin_end": 46.63,
            "count": 2
           }
          ]
         }
        },
        {
         "name": "Fuel_Price",
         "dtype": "float64",
         "stats": {
          "unique_count": 5,
          "nan_count": 0,
          "min": "2.514",
          "max": "2.625",
          "histogram": [
           {
            "bin_start": 2.514,
            "bin_end": 2.5250999999999997,
            "count": 1
           },
           {
            "bin_start": 2.5250999999999997,
            "bin_end": 2.5362,
            "count": 0
           },
           {
            "bin_start": 2.5362,
            "bin_end": 2.5473,
            "count": 0
           },
           {
            "bin_start": 2.5473,
            "bin_end": 2.5584,
            "count": 1
           },
           {
            "bin_start": 2.5584,
            "bin_end": 2.5694999999999997,
            "count": 1
           },
           {
            "bin_start": 2.5694999999999997,
            "bin_end": 2.5806,
            "count": 1
           },
           {
            "bin_start": 2.5806,
            "bin_end": 2.5917,
            "count": 0
           },
           {
            "bin_start": 2.5917,
            "bin_end": 2.6028,
            "count": 0
           },
           {
            "bin_start": 2.6028,
            "bin_end": 2.6139,
            "count": 0
           },
           {
            "bin_start": 2.6139,
            "bin_end": 2.625,
            "count": 1
           }
          ]
         }
        },
        {
         "name": "CPI",
         "dtype": "float64",
         "stats": {
          "unique_count": 5,
          "nan_count": 0,
          "min": "211.0963582",
          "max": "211.3501429",
          "histogram": [
           {
            "bin_start": 211.0963582,
            "bin_end": 211.12173667,
            "count": 1
           },
           {
            "bin_start": 211.12173667,
            "bin_end": 211.14711514,
            "count": 0
           },
           {
            "bin_start": 211.14711514,
            "bin_end": 211.17249361,
            "count": 0
           },
           {
            "bin_start": 211.17249361,
            "bin_end": 211.19787208,
            "count": 0
           },
           {
            "bin_start": 211.19787208,
            "bin_end": 211.22325055,
            "count": 0
           },
           {
            "bin_start": 211.22325055,
            "bin_end": 211.24862902,
            "count": 1
           },
           {
            "bin_start": 211.24862902,
            "bin_end": 211.27400749,
            "count": 0
           },
           {
            "bin_start": 211.27400749,
            "bin_end": 211.29938596,
            "count": 1
           },
           {
            "bin_start": 211.29938596,
            "bin_end": 211.32476443000002,
            "count": 1
           },
           {
            "bin_start": 211.32476443000002,
            "bin_end": 211.3501429,
            "count": 1
           }
          ]
         }
        },
        {
         "name": "Unemployment",
         "dtype": "float64",
         "stats": {
          "unique_count": 1,
          "nan_count": 0,
          "min": "8.106",
          "max": "8.106",
          "histogram": [
           {
            "bin_start": 7.606,
            "bin_end": 7.7059999999999995,
            "count": 0
           },
           {
            "bin_start": 7.7059999999999995,
            "bin_end": 7.806,
            "count": 0
           },
           {
            "bin_start": 7.806,
            "bin_end": 7.906,
            "count": 0
           },
           {
            "bin_start": 7.906,
            "bin_end": 8.006,
            "count": 0
           },
           {
            "bin_start": 8.006,
            "bin_end": 8.106,
            "count": 0
           },
           {
            "bin_start": 8.106,
            "bin_end": 8.206,
            "count": 5
           },
           {
            "bin_start": 8.206,
            "bin_end": 8.306,
            "count": 0
           },
           {
            "bin_start": 8.306,
            "bin_end": 8.406,
            "count": 0
           },
           {
            "bin_start": 8.406,
            "bin_end": 8.506,
            "count": 0
           },
           {
            "bin_start": 8.506,
            "bin_end": 8.606,
            "count": 0
           }
          ]
         }
        },
        {
         "name": "_deepnote_index_column",
         "dtype": "int64"
        }
       ],
       "rows": [
        {
         "Weekly_Sales": 24924.5,
         "Size": 151315,
         "Temperature": 42.31,
         "Fuel_Price": 2.572,
         "CPI": 211.0963582,
         "Unemployment": 8.106,
         "_deepnote_index_column": 0
        },
        {
         "Weekly_Sales": 46039.49,
         "Size": 151315,
         "Temperature": 38.51,
         "Fuel_Price": 2.548,
         "CPI": 211.2421698,
         "Unemployment": 8.106,
         "_deepnote_index_column": 1
        },
        {
         "Weekly_Sales": 41595.55,
         "Size": 151315,
         "Temperature": 39.93,
         "Fuel_Price": 2.514,
         "CPI": 211.2891429,
         "Unemployment": 8.106,
         "_deepnote_index_column": 2
        },
        {
         "Weekly_Sales": 19403.54,
         "Size": 151315,
         "Temperature": 46.63,
         "Fuel_Price": 2.561,
         "CPI": 211.3196429,
         "Unemployment": 8.106,
         "_deepnote_index_column": 3
        },
        {
         "Weekly_Sales": 21827.9,
         "Size": 151315,
         "Temperature": 46.5,
         "Fuel_Price": 2.625,
         "CPI": 211.3501429,
         "Unemployment": 8.106,
         "_deepnote_index_column": 4
        }
       ]
      },
      "text/plain": "   Weekly_Sales    Size  Temperature  Fuel_Price         CPI  Unemployment\n0      24924.50  151315        42.31       2.572  211.096358         8.106\n1      46039.49  151315        38.51       2.548  211.242170         8.106\n2      41595.55  151315        39.93       2.514  211.289143         8.106\n3      19403.54  151315        46.63       2.561  211.319643         8.106\n4      21827.90  151315        46.50       2.625  211.350143         8.106",
      "text/html": "<div>\n<style scoped>\n    .dataframe tbody tr th:only-of-type {\n        vertical-align: middle;\n    }\n\n    .dataframe tbody tr th {\n        vertical-align: top;\n    }\n\n    .dataframe thead th {\n        text-align: right;\n    }\n</style>\n<table border=\"1\" class=\"dataframe\">\n  <thead>\n    <tr style=\"text-align: right;\">\n      <th></th>\n      <th>Weekly_Sales</th>\n      <th>Size</th>\n      <th>Temperature</th>\n      <th>Fuel_Price</th>\n      <th>CPI</th>\n      <th>Unemployment</th>\n    </tr>\n  </thead>\n  <tbody>\n    <tr>\n      <th>0</th>\n      <td>24924.50</td>\n      <td>151315</td>\n      <td>42.31</td>\n      <td>2.572</td>\n      <td>211.096358</td>\n      <td>8.106</td>\n    </tr>\n    <tr>\n      <th>1</th>\n      <td>46039.49</td>\n      <td>151315</td>\n      <td>38.51</td>\n      <td>2.548</td>\n      <td>211.242170</td>\n      <td>8.106</td>\n    </tr>\n    <tr>\n      <th>2</th>\n      <td>41595.55</td>\n      <td>151315</td>\n      <td>39.93</td>\n      <td>2.514</td>\n      <td>211.289143</td>\n      <td>8.106</td>\n    </tr>\n    <tr>\n      <th>3</th>\n      <td>19403.54</td>\n      <td>151315</td>\n      <td>46.63</td>\n      <td>2.561</td>\n      <td>211.319643</td>\n      <td>8.106</td>\n    </tr>\n    <tr>\n      <th>4</th>\n      <td>21827.90</td>\n      <td>151315</td>\n      <td>46.50</td>\n      <td>2.625</td>\n      <td>211.350143</td>\n      <td>8.106</td>\n    </tr>\n  </tbody>\n</table>\n</div>"
     },
     "metadata": {}
    }
   ]
  },
  {
   "cell_type": "code",
   "metadata": {
    "cell_id": "00012-242378ca-f783-4c89-aae2-339d43f0c647",
    "deepnote_to_be_reexecuted": true,
    "source_hash": "ac64bf8c",
    "execution_start": 1650187345913,
    "execution_millis": 320,
    "deepnote_cell_type": "code",
    "deepnote_cell_height": 198.1875
   },
   "source": "from sklearn.preprocessing import StandardScaler\nsc = StandardScaler()\nmerged_train_scaled = pd.DataFrame(sc.fit_transform(merged_train1), columns=merged_train1.columns)\nmerged_train_scaled.head()",
   "execution_count": null,
   "outputs": [
    {
     "output_type": "error",
     "ename": "NameError",
     "evalue": "name 'merged_train1' is not defined",
     "traceback": [
      "\u001b[0;31m---------------------------------------------------------------------------\u001b[0m",
      "\u001b[0;31mNameError\u001b[0m                                 Traceback (most recent call last)",
      "\u001b[0;32m<ipython-input-17-db8d831cca12>\u001b[0m in \u001b[0;36m<module>\u001b[0;34m\u001b[0m\n\u001b[1;32m      1\u001b[0m \u001b[0;32mfrom\u001b[0m \u001b[0msklearn\u001b[0m\u001b[0;34m.\u001b[0m\u001b[0mpreprocessing\u001b[0m \u001b[0;32mimport\u001b[0m \u001b[0mStandardScaler\u001b[0m\u001b[0;34m\u001b[0m\u001b[0;34m\u001b[0m\u001b[0m\n\u001b[1;32m      2\u001b[0m \u001b[0msc\u001b[0m \u001b[0;34m=\u001b[0m \u001b[0mStandardScaler\u001b[0m\u001b[0;34m(\u001b[0m\u001b[0;34m)\u001b[0m\u001b[0;34m\u001b[0m\u001b[0;34m\u001b[0m\u001b[0m\n\u001b[0;32m----> 3\u001b[0;31m \u001b[0mmerged_train_scaled\u001b[0m \u001b[0;34m=\u001b[0m \u001b[0mpd\u001b[0m\u001b[0;34m.\u001b[0m\u001b[0mDataFrame\u001b[0m\u001b[0;34m(\u001b[0m\u001b[0msc\u001b[0m\u001b[0;34m.\u001b[0m\u001b[0mfit_transform\u001b[0m\u001b[0;34m(\u001b[0m\u001b[0mmerged_train1\u001b[0m\u001b[0;34m)\u001b[0m\u001b[0;34m,\u001b[0m \u001b[0mcolumns\u001b[0m\u001b[0;34m=\u001b[0m\u001b[0mmerged_train1\u001b[0m\u001b[0;34m.\u001b[0m\u001b[0mcolumns\u001b[0m\u001b[0;34m)\u001b[0m\u001b[0;34m\u001b[0m\u001b[0;34m\u001b[0m\u001b[0m\n\u001b[0m\u001b[1;32m      4\u001b[0m \u001b[0mmerged_train_scaled\u001b[0m\u001b[0;34m.\u001b[0m\u001b[0mhead\u001b[0m\u001b[0;34m(\u001b[0m\u001b[0;34m)\u001b[0m\u001b[0;34m\u001b[0m\u001b[0;34m\u001b[0m\u001b[0m\n",
      "\u001b[0;31mNameError\u001b[0m: name 'merged_train1' is not defined"
     ]
    }
   ]
  },
  {
   "cell_type": "code",
   "metadata": {
    "cell_id": "00013-717da34a-ea10-4678-b337-4bd21d473bab",
    "deepnote_to_be_reexecuted": true,
    "source_hash": "4bd7f622",
    "execution_start": 1650178829062,
    "execution_millis": 299,
    "deepnote_cell_type": "code",
    "deepnote_cell_height": 669
   },
   "source": "cat_col=['Store','Dept','Date','Type','IsHoliday']\nfor i in range(5):\n    merged_train_scaled[cat_col[i]] = merged_train[cat_col[i]].tolist() \nmerged_train_scaled",
   "execution_count": null,
   "outputs": [
    {
     "output_type": "execute_result",
     "execution_count": 15,
     "data": {
      "application/vnd.deepnote.dataframe.v3+json": {
       "column_count": 11,
       "row_count": 421570,
       "columns": [
        {
         "name": "Weekly_Sales",
         "dtype": "float64"
        },
        {
         "name": "Size",
         "dtype": "float64"
        },
        {
         "name": "Temperature",
         "dtype": "float64"
        },
        {
         "name": "Fuel_Price",
         "dtype": "float64"
        },
        {
         "name": "CPI",
         "dtype": "float64"
        },
        {
         "name": "Unemployment",
         "dtype": "float64"
        },
        {
         "name": "Store",
         "dtype": "int64"
        },
        {
         "name": "Dept",
         "dtype": "int64"
        },
        {
         "name": "Date",
         "dtype": "object"
        },
        {
         "name": "Type",
         "dtype": "object"
        },
        {
         "name": "IsHoliday",
         "dtype": "bool"
        },
        {
         "name": "_deepnote_index_column",
         "dtype": "int64"
        }
       ],
       "rows": [
        {
         "Weekly_Sales": 0.39378187737649145,
         "Size": 0.23920895416273869,
         "Temperature": -0.9637980366744412,
         "Fuel_Price": -1.7208341262053641,
         "CPI": 1.018774174416793,
         "Unemployment": 0.0782009273746055,
         "Store": 1,
         "Dept": 1,
         "Date": "2010-02-05",
         "Type": "A",
         "IsHoliday": false,
         "_deepnote_index_column": 0
        },
        {
         "Weekly_Sales": 1.3235007106335446,
         "Size": 0.23920895416273869,
         "Temperature": -1.1697834383199355,
         "Fuel_Price": -1.7731771306723902,
         "CPI": 1.0224977308569791,
         "Unemployment": 0.0782009273746055,
         "Store": 1,
         "Dept": 1,
         "Date": "2010-02-12",
         "Type": "A",
         "IsHoliday": true,
         "_deepnote_index_column": 1
        },
        {
         "Weekly_Sales": 1.1278285975108604,
         "Size": 0.23920895416273869,
         "Temperature": -1.092809946126093,
         "Fuel_Price": -1.8473297203340109,
         "CPI": 1.0236972718332835,
         "Unemployment": 0.0782009273746055,
         "Store": 1,
         "Dept": 1,
         "Date": "2010-02-19",
         "Type": "A",
         "IsHoliday": false,
         "_deepnote_index_column": 2
        },
        {
         "Weekly_Sales": 0.15068725646220923,
         "Size": 0.23920895416273869,
         "Temperature": -0.7296251590143005,
         "Fuel_Price": -1.7448246699194179,
         "CPI": 1.0244761431399947,
         "Unemployment": 0.0782009273746055,
         "Store": 1,
         "Dept": 1,
         "Date": "2010-02-26",
         "Type": "A",
         "IsHoliday": false,
         "_deepnote_index_column": 3
        },
        {
         "Weekly_Sales": 0.2574347922457957,
         "Size": 0.23920895416273869,
         "Temperature": -0.7366720280179623,
         "Fuel_Price": -1.605243324674015,
         "CPI": 1.0252550144467063,
         "Unemployment": 0.0782009273746055,
         "Store": 1,
         "Dept": 1,
         "Date": "2010-03-05",
         "Type": "A",
         "IsHoliday": false,
         "_deepnote_index_column": 4
        },
        {
         "Weekly_Sales": 0.2228918574928788,
         "Size": 0.23920895416273869,
         "Temperature": -0.12467855839227067,
         "Fuel_Price": -1.5136430668567198,
         "CPI": 1.0260338857534175,
         "Unemployment": 0.0782009273746055,
         "Store": 1,
         "Dept": 1,
         "Date": "2010-03-12",
         "Type": "A",
         "IsHoliday": false,
         "_deepnote_index_column": 5
        },
        {
         "Weekly_Sales": 0.27102899203370845,
         "Size": 0.23920895416273869,
         "Temperature": -0.29868201609806966,
         "Fuel_Price": -1.3980522653253697,
         "CPI": 1.0218201179274928,
         "Unemployment": 0.0782009273746055,
         "Store": 1,
         "Dept": 1,
         "Date": "2010-03-19",
         "Type": "A",
         "IsHoliday": false,
         "_deepnote_index_column": 6
        },
        {
         "Weekly_Sales": 0.4512298543321428,
         "Size": 0.23920895416273869,
         "Temperature": -0.4683489390323843,
         "Fuel_Price": -1.3718807630918566,
         "CPI": 1.016774242302625,
         "Unemployment": 0.0782009273746055,
         "Store": 1,
         "Dept": 1,
         "Date": "2010-03-26",
         "Type": "A",
         "IsHoliday": false,
         "_deepnote_index_column": 7
        },
        {
         "Weekly_Sales": 1.817484359556934,
         "Size": 0.23920895416273869,
         "Temperature": 0.11816738881083838,
         "Fuel_Price": -1.4002332238448298,
         "CPI": 1.0117283692314325,
         "Unemployment": -0.08173090701731635,
         "Store": 1,
         "Dept": 1,
         "Date": "2010-04-02",
         "Type": "A",
         "IsHoliday": false,
         "_deepnote_index_column": 8
        },
        {
         "Weekly_Sales": 1.1879470681412443,
         "Size": 0.23920895416273869,
         "Temperature": 0.31276938668118653,
         "Fuel_Price": -1.289004339352399,
         "CPI": 1.0066824961602399,
         "Unemployment": -0.08173090701731635,
         "Store": 1,
         "Dept": 1,
         "Date": "2010-04-09",
         "Type": "A",
         "IsHoliday": false,
         "_deepnote_index_column": 9
        }
       ]
      },
      "text/plain": "        Weekly_Sales      Size  Temperature  Fuel_Price       CPI  \\\n0           0.393782  0.239209    -0.963798   -1.720834  1.018774   \n1           1.323501  0.239209    -1.169783   -1.773177  1.022498   \n2           1.127829  0.239209    -1.092810   -1.847330  1.023697   \n3           0.150687  0.239209    -0.729625   -1.744825  1.024476   \n4           0.257435  0.239209    -0.736672   -1.605243  1.025255   \n...              ...       ...          ...         ...       ...   \n421565     -0.681290 -0.303489     0.259647    1.387032  0.531461   \n421566     -0.676018 -0.303489     0.260189    1.360860  0.535467   \n421567     -0.656956 -0.303489    -0.304645    1.393575  0.539472   \n421568     -0.670210 -0.303489    -0.196231    1.325965  0.539564   \n421569     -0.656262 -0.303489    -0.067219    1.136222  0.539003   \n\n        Unemployment  Store  Dept        Date Type  IsHoliday  \n0           0.078201      1     1  2010-02-05    A      False  \n1           0.078201      1     1  2010-02-12    A       True  \n2           0.078201      1     1  2010-02-19    A      False  \n3           0.078201      1     1  2010-02-26    A      False  \n4           0.078201      1     1  2010-03-05    A      False  \n...              ...    ...   ...         ...  ...        ...  \n421565      0.388404     45    98  2012-09-28    B      False  \n421566      0.379281     45    98  2012-10-05    B      False  \n421567      0.379281     45    98  2012-10-12    B      False  \n421568      0.379281     45    98  2012-10-19    B      False  \n421569      0.379281     45    98  2012-10-26    B      False  \n\n[421570 rows x 11 columns]",
      "text/html": "<div>\n<style scoped>\n    .dataframe tbody tr th:only-of-type {\n        vertical-align: middle;\n    }\n\n    .dataframe tbody tr th {\n        vertical-align: top;\n    }\n\n    .dataframe thead th {\n        text-align: right;\n    }\n</style>\n<table border=\"1\" class=\"dataframe\">\n  <thead>\n    <tr style=\"text-align: right;\">\n      <th></th>\n      <th>Weekly_Sales</th>\n      <th>Size</th>\n      <th>Temperature</th>\n      <th>Fuel_Price</th>\n      <th>CPI</th>\n      <th>Unemployment</th>\n      <th>Store</th>\n      <th>Dept</th>\n      <th>Date</th>\n      <th>Type</th>\n      <th>IsHoliday</th>\n    </tr>\n  </thead>\n  <tbody>\n    <tr>\n      <th>0</th>\n      <td>0.393782</td>\n      <td>0.239209</td>\n      <td>-0.963798</td>\n      <td>-1.720834</td>\n      <td>1.018774</td>\n      <td>0.078201</td>\n      <td>1</td>\n      <td>1</td>\n      <td>2010-02-05</td>\n      <td>A</td>\n      <td>False</td>\n    </tr>\n    <tr>\n      <th>1</th>\n      <td>1.323501</td>\n      <td>0.239209</td>\n      <td>-1.169783</td>\n      <td>-1.773177</td>\n      <td>1.022498</td>\n      <td>0.078201</td>\n      <td>1</td>\n      <td>1</td>\n      <td>2010-02-12</td>\n      <td>A</td>\n      <td>True</td>\n    </tr>\n    <tr>\n      <th>2</th>\n      <td>1.127829</td>\n      <td>0.239209</td>\n      <td>-1.092810</td>\n      <td>-1.847330</td>\n      <td>1.023697</td>\n      <td>0.078201</td>\n      <td>1</td>\n      <td>1</td>\n      <td>2010-02-19</td>\n      <td>A</td>\n      <td>False</td>\n    </tr>\n    <tr>\n      <th>3</th>\n      <td>0.150687</td>\n      <td>0.239209</td>\n      <td>-0.729625</td>\n      <td>-1.744825</td>\n      <td>1.024476</td>\n      <td>0.078201</td>\n      <td>1</td>\n      <td>1</td>\n      <td>2010-02-26</td>\n      <td>A</td>\n      <td>False</td>\n    </tr>\n    <tr>\n      <th>4</th>\n      <td>0.257435</td>\n      <td>0.239209</td>\n      <td>-0.736672</td>\n      <td>-1.605243</td>\n      <td>1.025255</td>\n      <td>0.078201</td>\n      <td>1</td>\n      <td>1</td>\n      <td>2010-03-05</td>\n      <td>A</td>\n      <td>False</td>\n    </tr>\n    <tr>\n      <th>...</th>\n      <td>...</td>\n      <td>...</td>\n      <td>...</td>\n      <td>...</td>\n      <td>...</td>\n      <td>...</td>\n      <td>...</td>\n      <td>...</td>\n      <td>...</td>\n      <td>...</td>\n      <td>...</td>\n    </tr>\n    <tr>\n      <th>421565</th>\n      <td>-0.681290</td>\n      <td>-0.303489</td>\n      <td>0.259647</td>\n      <td>1.387032</td>\n      <td>0.531461</td>\n      <td>0.388404</td>\n      <td>45</td>\n      <td>98</td>\n      <td>2012-09-28</td>\n      <td>B</td>\n      <td>False</td>\n    </tr>\n    <tr>\n      <th>421566</th>\n      <td>-0.676018</td>\n      <td>-0.303489</td>\n      <td>0.260189</td>\n      <td>1.360860</td>\n      <td>0.535467</td>\n      <td>0.379281</td>\n      <td>45</td>\n      <td>98</td>\n      <td>2012-10-05</td>\n      <td>B</td>\n      <td>False</td>\n    </tr>\n    <tr>\n      <th>421567</th>\n      <td>-0.656956</td>\n      <td>-0.303489</td>\n      <td>-0.304645</td>\n      <td>1.393575</td>\n      <td>0.539472</td>\n      <td>0.379281</td>\n      <td>45</td>\n      <td>98</td>\n      <td>2012-10-12</td>\n      <td>B</td>\n      <td>False</td>\n    </tr>\n    <tr>\n      <th>421568</th>\n      <td>-0.670210</td>\n      <td>-0.303489</td>\n      <td>-0.196231</td>\n      <td>1.325965</td>\n      <td>0.539564</td>\n      <td>0.379281</td>\n      <td>45</td>\n      <td>98</td>\n      <td>2012-10-19</td>\n      <td>B</td>\n      <td>False</td>\n    </tr>\n    <tr>\n      <th>421569</th>\n      <td>-0.656262</td>\n      <td>-0.303489</td>\n      <td>-0.067219</td>\n      <td>1.136222</td>\n      <td>0.539003</td>\n      <td>0.379281</td>\n      <td>45</td>\n      <td>98</td>\n      <td>2012-10-26</td>\n      <td>B</td>\n      <td>False</td>\n    </tr>\n  </tbody>\n</table>\n<p>421570 rows × 11 columns</p>\n</div>"
     },
     "metadata": {}
    }
   ]
  },
  {
   "cell_type": "code",
   "metadata": {
    "cell_id": "00014-101ceab1-4383-43e2-9182-8a20f9a69864",
    "deepnote_to_be_reexecuted": true,
    "source_hash": "6b56187e",
    "execution_start": 1650178829405,
    "execution_millis": 4641,
    "deepnote_cell_type": "code",
    "deepnote_cell_height": 81
   },
   "source": "merged_train_scaled.to_csv('Mtrain scaled.csv')",
   "execution_count": null,
   "outputs": []
  },
  {
   "cell_type": "code",
   "metadata": {
    "cell_id": "00015-a70f89d1-7a64-4c29-b3f7-61fea85127a3",
    "deepnote_to_be_reexecuted": true,
    "source_hash": "3a702e22",
    "execution_start": 1650184472862,
    "execution_millis": 4679,
    "deepnote_cell_type": "code",
    "deepnote_cell_height": 696.359375,
    "deepnote_output_heights": [
     545.359375
    ]
   },
   "source": "plt.figure(figsize=(15,10))\nsns.histplot(merged_train['Weekly_Sales'],kde=True)\nplt.title(\"Weekly Sales\")\nplt.show()",
   "execution_count": null,
   "outputs": [
    {
     "data": {
      "text/plain": "<Figure size 1080x720 with 1 Axes>",
      "image/png": "[encoded data removed]"
     },
     "metadata": {
      "needs_background": "light",
      "image/png": {
       "width": 903,
       "height": 605
      }
     },
     "output_type": "display_data"
    }
   ]
  },
  {
   "cell_type": "code",
   "metadata": {
    "cell_id": "00016-29a50ae9-dde2-42b3-bd92-a109722e4859",
    "deepnote_to_be_reexecuted": false,
    "source_hash": "5d812f16",
    "execution_start": 1650388171108,
    "execution_millis": 46633,
    "deepnote_cell_type": "code",
    "deepnote_cell_height": 889,
    "deepnote_output_heights": [
     540.28125
    ]
   },
   "source": "fig, ax = plt.subplots(ncols = 2,nrows = 2, figsize=(15, 10))\ng1 = sns.scatterplot(data = merged_train, x = 'Store', y='Weekly_Sales', hue = 'Store', ax=ax[0,0])\ng1.set_title('weekly sale by store')\n\ng2 = sns.scatterplot(data = merged_train, x = 'Dept', y='Weekly_Sales', hue = 'Dept', ax=ax[0,1])\ng2.set_title('weekly sale by dept')\n\ng3 = sns.barplot(data = merged_train, x = 'Type', y='Weekly_Sales', ax=ax[1,0])\ng3.set_title('weekly sale by Type')\n\ng4 = sns.barplot(data = merged_train, x = 'IsHoliday', y='Weekly_Sales', ax=ax[1,1])\ng4.set_title('weekly sale by Isholiday')\nplt.show()",
   "outputs": [
    {
     "data": {
      "text/plain": "<Figure size 1080x720 with 4 Axes>",
      "image/png": "[encoded data removed]"
     },
     "metadata": {
      "needs_background": "light",
      "image/png": {
       "width": 910,
       "height": 604
      }
     },
     "output_type": "display_data"
    }
   ],
   "execution_count": null
  },
  {
   "cell_type": "code",
   "metadata": {
    "cell_id": "00017-2430307e-9870-4413-882d-84e7e219ca8d",
    "deepnote_to_be_reexecuted": false,
    "source_hash": "6651ff92",
    "execution_start": 1650388245115,
    "execution_millis": 256857,
    "owner_user_id": "",
    "deepnote_cell_type": "code",
    "deepnote_cell_height": 819.796875,
    "deepnote_output_heights": [
     21.1875,
     580.609375
    ]
   },
   "source": "fig, ax = plt.subplots(ncols = 2,nrows = 1, figsize=(15, 10))\nf1 = sns.lineplot(data = merged_train, x = 'Size', y='Weekly_Sales', hue = 'IsHoliday', ax=ax[0])\nf1.set_title('weekly sale vs. size by Isholiday')\n\nf1 = sns.lineplot(data = merged_train, x = 'Temperature', y='Weekly_Sales', hue = 'IsHoliday', ax=ax[1])\nf1.set_title('weekly sale vs. Temp by Isholiday')",
   "outputs": [
    {
     "output_type": "execute_result",
     "execution_count": 15,
     "data": {
      "text/plain": "Text(0.5, 1.0, 'weekly sale vs. Temp by Isholiday')"
     },
     "metadata": {}
    },
    {
     "data": {
      "text/plain": "<Figure size 1080x720 with 2 Axes>",
      "image/png": "[encoded data removed]"
     },
     "metadata": {
      "needs_background": "light",
      "image/png": {
       "width": 904,
       "height": 604
      }
     },
     "output_type": "display_data"
    }
   ],
   "execution_count": null
  },
  {
   "cell_type": "code",
   "metadata": {
    "cell_id": "00018-6632ac3d-9a22-4298-822e-7bc01ccbf22e",
    "deepnote_to_be_reexecuted": true,
    "source_hash": "b623e53d",
    "owner_user_id": "3916495e-342f-4dc7-9c74-442bb287e020",
    "deepnote_cell_type": "code",
    "deepnote_cell_height": 81
   },
   "source": "",
   "execution_count": null,
   "outputs": []
  },
  {
   "cell_type": "markdown",
   "source": "<a style='text-decoration:none;line-height:16px;display:flex;color:#5B5B62;padding:10px;justify-content:end;' href='https://deepnote.com?utm_source=created-in-deepnote-cell&projectId=44fb392e-d929-4e4f-86c2-2177089827cb' target=\"_blank\">\n<img alt='Created in deepnote.com' style='display:inline;max-height:16px;margin:0px;margin-right:7.5px;' src='data:image/svg+xml;base64,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' > </img>\nCreated in <span style='font-weight:600;margin-left:4px;'>Deepnote</span></a>",
   "metadata": {
    "tags": [],
    "created_in_deepnote_cell": true,
    "deepnote_cell_type": "markdown"
   }
  }
 ],
 "nbformat": 4,
 "nbformat_minor": 5,
 "metadata": {
  "kernelspec": {
   "display_name": "Python 3",
   "language": "python",
   "name": "python3"
  },
  "language_info": {
   "codemirror_mode": {
    "name": "ipython",
    "version": 3
   },
   "file_extension": ".py",
   "mimetype": "text/x-python",
   "name": "python",
   "nbconvert_exporter": "python",
   "pygments_lexer": "ipython3",
   "version": "3.8.8"
  },
  "deepnote_notebook_id": "2eb8fcc1-8501-4c97-9226-48d88a543809",
  "deepnote": {},
  "deepnote_execution_queue": []
 }
}